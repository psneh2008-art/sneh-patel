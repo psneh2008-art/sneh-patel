{
 "cells": [
  {
   "cell_type": "code",
   "execution_count": 1,
   "id": "5ece3cc0-3181-4256-9195-ea6fe70fe596",
   "metadata": {},
   "outputs": [],
   "source": [
    "#code1"
   ]
  },
  {
   "cell_type": "code",
   "execution_count": 2,
   "id": "b486c571-ceaf-4be1-b4fc-9b8d1d5903dd",
   "metadata": {},
   "outputs": [
    {
     "name": "stdout",
     "output_type": "stream",
     "text": [
      "*\n",
      "**\n",
      "***\n",
      "**\n",
      "*\n"
     ]
    }
   ],
   "source": [
    "print(\"*\")\n",
    "print(\"**\")\n",
    "print(\"***\")\n",
    "print(\"**\")\n",
    "print(\"*\")"
   ]
  },
  {
   "cell_type": "code",
   "execution_count": null,
   "id": "402c562f-c3a5-45be-b6c9-478e9c8f06cc",
   "metadata": {},
   "outputs": [],
   "source": []
  }
 ],
 "metadata": {
  "kernelspec": {
   "display_name": "Python 3 (ipykernel)",
   "language": "python",
   "name": "python3"
  },
  "language_info": {
   "codemirror_mode": {
    "name": "ipython",
    "version": 3
   },
   "file_extension": ".py",
   "mimetype": "text/x-python",
   "name": "python",
   "nbconvert_exporter": "python",
   "pygments_lexer": "ipython3",
   "version": "3.13.5"
  }
 },
 "nbformat": 4,
 "nbformat_minor": 5
}
