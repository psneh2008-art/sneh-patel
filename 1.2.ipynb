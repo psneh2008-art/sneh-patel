{
 "cells": [
  {
   "cell_type": "code",
   "execution_count": 1,
   "id": "05942463-7b89-401a-bfba-5114655f2c36",
   "metadata": {},
   "outputs": [],
   "source": [
    "#code1"
   ]
  },
  {
   "cell_type": "code",
   "execution_count": 1,
   "id": "dcb24f82-855c-4f47-bcb1-a6e56f340669",
   "metadata": {},
   "outputs": [
    {
     "name": "stdout",
     "output_type": "stream",
     "text": [
      "Hello - World - Python !!!\n",
      "\n"
     ]
    }
   ],
   "source": [
    "print(\"Hello\", \"World\", \"Python\", sep=\" - \", end=\" !!!\\n\")\n",
    "print(\"\")"
   ]
  },
  {
   "cell_type": "code",
   "execution_count": null,
   "id": "23860d6a-5c9d-4929-aae5-2231ab7c514b",
   "metadata": {},
   "outputs": [],
   "source": []
  },
  {
   "cell_type": "code",
   "execution_count": null,
   "id": "e9fa2a32-594b-4481-a69d-be09ce48cb5e",
   "metadata": {},
   "outputs": [],
   "source": [
    "# code 2"
   ]
  },
  {
   "cell_type": "code",
   "execution_count": 5,
   "id": "be063380-546e-4303-9230-5e847934052d",
   "metadata": {},
   "outputs": [
    {
     "name": "stdin",
     "output_type": "stream",
     "text": [
      "enter your name:  snhe\n",
      "enter your age:  17\n",
      "enter your hobby:  driving\n"
     ]
    },
    {
     "name": "stdout",
     "output_type": "stream",
     "text": [
      "Hello, snhe! At 17years old, enjoying driving!\n"
     ]
    }
   ],
   "source": [
    "name = input(\"enter your name: \")\n",
    "age = input(\"enter your age: \")\n",
    "hobby = input(\"enter your hobby: \")\n",
    "\n",
    "print(f\"Hello, {name}! At {age}years old, enjoying {hobby}!\")\n"
   ]
  },
  {
   "cell_type": "code",
   "execution_count": null,
   "id": "ee2f2ec3-75b4-433a-ba2a-c6d2fa078876",
   "metadata": {},
   "outputs": [],
   "source": []
  },
  {
   "cell_type": "code",
   "execution_count": null,
   "id": "94888139-6f9a-4fa8-b856-044e5879a913",
   "metadata": {},
   "outputs": [],
   "source": [
    "#code 3"
   ]
  },
  {
   "cell_type": "code",
   "execution_count": 6,
   "id": "207925c4-d942-47be-afb2-47c2c745337b",
   "metadata": {},
   "outputs": [
    {
     "name": "stdin",
     "output_type": "stream",
     "text": [
      "enter first number:  8\n",
      "enter second number:  4\n"
     ]
    },
    {
     "name": "stdout",
     "output_type": "stream",
     "text": [
      "Addition: 12\n",
      "Subtraction: 4\n",
      "Multiplication: 32\n",
      "Division: 2.0\n",
      "Floor Division: 2\n",
      "Modulus: 0\n",
      "Exponentiation: 4096\n"
     ]
    }
   ],
   "source": [
    "a = int(input(\"enter first number: \"))\n",
    "b = int(input(\"enter second number: \"))\n",
    "\n",
    "print(\"Addition:\", a + b)\n",
    "print(\"Subtraction:\", a - b)\n",
    "print(\"Multiplication:\", a * b)\n",
    "print(\"Division:\", a / b)\n",
    "print(\"Floor Division:\", a // b)\n",
    "print(\"Modulus:\", a % b)\n",
    "print(\"Exponentiation:\", a ** b)\n"
   ]
  },
  {
   "cell_type": "code",
   "execution_count": null,
   "id": "c6f99406-a6ee-45d6-90c8-8316d54f1985",
   "metadata": {},
   "outputs": [],
   "source": []
  },
  {
   "cell_type": "code",
   "execution_count": null,
   "id": "a4a0e350-730b-4598-8b61-9a4f08f34c47",
   "metadata": {},
   "outputs": [],
   "source": [
    "# code 4"
   ]
  },
  {
   "cell_type": "code",
   "execution_count": 7,
   "id": "8cb08d12-58b3-4f2c-a4c7-ad82294825c9",
   "metadata": {},
   "outputs": [
    {
     "name": "stdout",
     "output_type": "stream",
     "text": [
      "10 <class 'int'>\n",
      "10.5 <class 'float'>\n",
      "Hello <class 'str'>\n",
      "True <class 'bool'>\n",
      "(2+3j) <class 'complex'>\n"
     ]
    }
   ],
   "source": [
    "i = 10\n",
    "f = 10.5\n",
    "s = \"Hello\"\n",
    "b = True\n",
    "c = 2 + 3j\n",
    "\n",
    "print(i, type(i))\n",
    "print(f, type(f))\n",
    "print(s, type(s))\n",
    "print(b, type(b))\n",
    "print(c, type(c))\n"
   ]
  },
  {
   "cell_type": "code",
   "execution_count": null,
   "id": "89904ab7-acd6-4656-a1cc-375368ccd432",
   "metadata": {},
   "outputs": [],
   "source": []
  },
  {
   "cell_type": "code",
   "execution_count": null,
   "id": "1b8b4c01-b25d-45f1-8e0d-937843b0989e",
   "metadata": {},
   "outputs": [],
   "source": [
    "# code 5"
   ]
  },
  {
   "cell_type": "code",
   "execution_count": 10,
   "id": "a7d66702-5518-40b9-9697-59625f38de52",
   "metadata": {},
   "outputs": [
    {
     "name": "stdin",
     "output_type": "stream",
     "text": [
      "enter your Height in mtr.:  170.5\n",
      "enter your Weight :  50\n"
     ]
    },
    {
     "name": "stdout",
     "output_type": "stream",
     "text": [
      "Your height is 170.5 meters and your weight is 50.0 kg.\n"
     ]
    }
   ],
   "source": [
    "height = float(input(\"enter your Height in mtr.: \"))\n",
    "weight = float(input(\"enter your Weight : \"))\n",
    "\n",
    "print(f\"Your height is {height} meters and your weight is {weight} kg.\")\n"
   ]
  },
  {
   "cell_type": "code",
   "execution_count": null,
   "id": "97c52ef2-cc9c-4de4-a844-009313edffb4",
   "metadata": {},
   "outputs": [],
   "source": []
  },
  {
   "cell_type": "code",
   "execution_count": null,
   "id": "ff97f34f-d61e-4aa3-9a5f-9e8a1b45c781",
   "metadata": {},
   "outputs": [],
   "source": [
    "#code 6"
   ]
  },
  {
   "cell_type": "code",
   "execution_count": 11,
   "id": "03a3e16b-d647-4299-9820-ad3ec34dd8b1",
   "metadata": {},
   "outputs": [
    {
     "name": "stdin",
     "output_type": "stream",
     "text": [
      "Enter 1 for True or 0 for False (x):  1\n",
      "Enter 1 for True or 0 for False (y):  0\n"
     ]
    },
    {
     "name": "stdout",
     "output_type": "stream",
     "text": [
      "x AND y = False\n",
      "x OR y = True\n",
      "NOT x = False\n"
     ]
    }
   ],
   "source": [
    "#0.\n",
    "x = bool(int(input(\"Enter 1 for True or 0 for False (x): \")))\n",
    "y = bool(int(input(\"Enter 1 for True or 0 for False (y): \")))\n",
    "\n",
    "print(\"x AND y =\", x and y)\n",
    "print(\"x OR y =\", x or y)\n",
    "print(\"NOT x =\", not x)\n"
   ]
  },
  {
   "cell_type": "code",
   "execution_count": null,
   "id": "505be18a-f460-4446-b68e-4491933ca9c9",
   "metadata": {},
   "outputs": [],
   "source": []
  },
  {
   "cell_type": "code",
   "execution_count": null,
   "id": "7ee5ffd9-0f56-42fe-ac62-c0fa5ac8e0fc",
   "metadata": {},
   "outputs": [],
   "source": [
    "#code 7"
   ]
  },
  {
   "cell_type": "code",
   "execution_count": 12,
   "id": "9cf4c398-ab79-4a7a-b2b3-2d6abd52decc",
   "metadata": {},
   "outputs": [
    {
     "name": "stdout",
     "output_type": "stream",
     "text": [
      "Initial value: 10\n",
      "After += 5: 15\n",
      "After -= 3: 12\n",
      "After *= 2: 24\n",
      "After /= 4: 6.0\n"
     ]
    }
   ],
   "source": [
    "num = 10\n",
    "print(\"Initial value:\", num)\n",
    "\n",
    "num += 5\n",
    "print(\"After += 5:\", num)\n",
    "\n",
    "num -= 3\n",
    "print(\"After -= 3:\", num)\n",
    "\n",
    "num *= 2\n",
    "print(\"After *= 2:\", num)\n",
    "\n",
    "num /= 4\n",
    "print(\"After /= 4:\", num)\n"
   ]
  },
  {
   "cell_type": "code",
   "execution_count": null,
   "id": "86099df3-0af4-41d9-9637-83fbae9fe817",
   "metadata": {},
   "outputs": [],
   "source": []
  },
  {
   "cell_type": "code",
   "execution_count": null,
   "id": "1ba7cb61-8c5b-4884-9dd1-df7bc45e6968",
   "metadata": {},
   "outputs": [],
   "source": []
  },
  {
   "cell_type": "code",
   "execution_count": null,
   "id": "641ca48a-1d5c-4a04-8a54-7e177f89b08a",
   "metadata": {},
   "outputs": [],
   "source": []
  },
  {
   "cell_type": "code",
   "execution_count": null,
   "id": "36772832-63c8-48c0-b09f-9d081d0518fe",
   "metadata": {},
   "outputs": [],
   "source": []
  },
  {
   "cell_type": "code",
   "execution_count": null,
   "id": "bf8a7a0d-d017-4d29-acb4-2988e8e62ac2",
   "metadata": {},
   "outputs": [],
   "source": []
  }
 ],
 "metadata": {
  "kernelspec": {
   "display_name": "Python 3 (ipykernel)",
   "language": "python",
   "name": "python3"
  },
  "language_info": {
   "codemirror_mode": {
    "name": "ipython",
    "version": 3
   },
   "file_extension": ".py",
   "mimetype": "text/x-python",
   "name": "python",
   "nbconvert_exporter": "python",
   "pygments_lexer": "ipython3",
   "version": "3.13.5"
  }
 },
 "nbformat": 4,
 "nbformat_minor": 5
}
