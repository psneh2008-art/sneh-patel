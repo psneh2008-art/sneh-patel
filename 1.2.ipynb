{
 "cells": [
  {
   "cell_type": "code",
   "execution_count": 1,
   "id": "05942463-7b89-401a-bfba-5114655f2c36",
   "metadata": {},
   "outputs": [],
   "source": [
    "#code1"
   ]
  },
  {
   "cell_type": "code",
   "execution_count": 2,
   "id": "1386916f-0b12-47f4-bb16-3f7ea47054d1",
   "metadata": {},
   "outputs": [
    {
     "name": "stdin",
     "output_type": "stream",
     "text": [
      "Enter a number:  11\n"
     ]
    },
    {
     "name": "stdout",
     "output_type": "stream",
     "text": [
      "The number is Odd.\n"
     ]
    }
   ],
   "source": [
    "num = int(input(\"Enter a number: \"))\n",
    "\n",
    "if num % 2 == 0:\n",
    "    print(\"The number is Even.\")\n",
    "else:\n",
    "    print(\"The number is Odd.\")"
   ]
  },
  {
   "cell_type": "code",
   "execution_count": 3,
   "id": "840c992e-166c-4e47-819d-236e0a3eac32",
   "metadata": {},
   "outputs": [],
   "source": [
    "#code2"
   ]
  },
  {
   "cell_type": "code",
   "execution_count": 4,
   "id": "6eaceb74-24e8-4a92-905b-1c0d5e9500ba",
   "metadata": {},
   "outputs": [
    {
     "name": "stdin",
     "output_type": "stream",
     "text": [
      "Enter your age:  22\n"
     ]
    },
    {
     "name": "stdout",
     "output_type": "stream",
     "text": [
      "Adult\n"
     ]
    }
   ],
   "source": [
    "age = int(input(\"Enter your age: \"))\n",
    "\n",
    "if age >= 0:\n",
    "    if age <= 12:\n",
    "        print(\"Child\")\n",
    "    elif age <= 20:\n",
    "        print(\"Teenager\")\n",
    "    elif age <= 59:\n",
    "        print(\"Adult\")\n",
    "    else:\n",
    "        print(\"Senior\")\n",
    "else:\n",
    "    print(\"Invalid age\")"
   ]
  },
  {
   "cell_type": "code",
   "execution_count": 5,
   "id": "d991828f-2540-4119-b959-ff13051bc2bc",
   "metadata": {},
   "outputs": [],
   "source": [
    "#code3"
   ]
  },
  {
   "cell_type": "code",
   "execution_count": 7,
   "id": "8882409d-5284-47a1-842d-f0434000e47c",
   "metadata": {},
   "outputs": [
    {
     "name": "stdin",
     "output_type": "stream",
     "text": [
      "Enter first number:  11\n",
      "Enter second number:  22\n",
      "Enter third number:  33\n"
     ]
    },
    {
     "name": "stdout",
     "output_type": "stream",
     "text": [
      "The largest number is: 33\n"
     ]
    }
   ],
   "source": [
    "a = int(input(\"Enter first number: \"))\n",
    "b = int(input(\"Enter second number: \"))\n",
    "c = int(input(\"Enter third number: \"))\n",
    "\n",
    "if a >= b and a >= c:\n",
    "    print(\"The largest number is:\", a)\n",
    "elif b >= a and b >= c:\n",
    "    print(\"The largest number is:\", b)\n",
    "else:\n",
    "    print(\"The largest number is:\", c)\n"
   ]
  },
  {
   "cell_type": "code",
   "execution_count": 8,
   "id": "18927503-f4d1-4c51-b986-a7b391a85a16",
   "metadata": {},
   "outputs": [],
   "source": [
    "#code 4"
   ]
  },
  {
   "cell_type": "code",
   "execution_count": 9,
   "id": "4380c84d-2e44-4418-80a6-309797236107",
   "metadata": {},
   "outputs": [
    {
     "name": "stdin",
     "output_type": "stream",
     "text": [
      "Enter a number:  22\n"
     ]
    },
    {
     "name": "stdout",
     "output_type": "stream",
     "text": [
      "The number is Positive.\n"
     ]
    }
   ],
   "source": [
    "num = int(input(\"Enter a number: \"))\n",
    "\n",
    "if num > 0:\n",
    "    print(\"The number is Positive.\")\n",
    "elif num < 0:\n",
    "    print(\"The number is Negative.\")\n",
    "else:\n",
    "    print(\"The number is Neutral (Zero).\")"
   ]
  },
  {
   "cell_type": "code",
   "execution_count": null,
   "id": "ea71b7bc-5602-41d3-a0ed-b932c4afd8c5",
   "metadata": {},
   "outputs": [],
   "source": []
  }
 ],
 "metadata": {
  "kernelspec": {
   "display_name": "Python 3 (ipykernel)",
   "language": "python",
   "name": "python3"
  },
  "language_info": {
   "codemirror_mode": {
    "name": "ipython",
    "version": 3
   },
   "file_extension": ".py",
   "mimetype": "text/x-python",
   "name": "python",
   "nbconvert_exporter": "python",
   "pygments_lexer": "ipython3",
   "version": "3.13.5"
  }
 },
 "nbformat": 4,
 "nbformat_minor": 5
}
