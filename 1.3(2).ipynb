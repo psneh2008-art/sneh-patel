{
 "cells": [
  {
   "cell_type": "code",
   "execution_count": 1,
   "id": "81229fb7-dd8e-40e7-a173-d57ccc449626",
   "metadata": {},
   "outputs": [
    {
     "name": "stdin",
     "output_type": "stream",
     "text": [
      "Enter a floating-point number:  12.5\n"
     ]
    },
    {
     "name": "stdout",
     "output_type": "stream",
     "text": [
      "Original floating-point number: 12.5\n",
      "Converted integer number: 12\n",
      "Difference: int() removes the decimal part.\n"
     ]
    }
   ],
   "source": [
    "num = float(input(\"Enter a floating-point number: \"))\n",
    "\n",
    "int_num = int(num)\n",
    "\n",
    "print(\"Original floating-point number:\", num)\n",
    "print(\"Converted integer number:\", int_num)\n",
    "print(\"Difference: int() removes the decimal part.\")\n"
   ]
  },
  {
   "cell_type": "code",
   "execution_count": null,
   "id": "08a57afd-ba72-42ab-bca4-f98790567a10",
   "metadata": {},
   "outputs": [],
   "source": []
  },
  {
   "cell_type": "code",
   "execution_count": null,
   "id": "35b1b2c8-a9d0-4d27-8222-28d20130d6fd",
   "metadata": {},
   "outputs": [],
   "source": []
  },
  {
   "cell_type": "code",
   "execution_count": null,
   "id": "8fd5a4c0-8405-436a-8bd3-b7b839342ec7",
   "metadata": {},
   "outputs": [],
   "source": []
  },
  {
   "cell_type": "code",
   "execution_count": null,
   "id": "706bb64e-cec4-49be-bd6c-7d659f25e928",
   "metadata": {},
   "outputs": [],
   "source": []
  },
  {
   "cell_type": "code",
   "execution_count": null,
   "id": "d46e619f-5a53-4827-bd22-8c9bdb4fd960",
   "metadata": {},
   "outputs": [],
   "source": []
  },
  {
   "cell_type": "code",
   "execution_count": null,
   "id": "d484dae2-df15-4341-a1da-8b0d5e15d5a5",
   "metadata": {},
   "outputs": [],
   "source": []
  },
  {
   "cell_type": "code",
   "execution_count": null,
   "id": "58073663-7f92-4171-9b08-3232f625bca6",
   "metadata": {},
   "outputs": [],
   "source": []
  },
  {
   "cell_type": "code",
   "execution_count": null,
   "id": "2467737e-5f02-4383-b58d-ba86bd0e9b80",
   "metadata": {},
   "outputs": [],
   "source": []
  }
 ],
 "metadata": {
  "kernelspec": {
   "display_name": "Python 3 (ipykernel)",
   "language": "python",
   "name": "python3"
  },
  "language_info": {
   "codemirror_mode": {
    "name": "ipython",
    "version": 3
   },
   "file_extension": ".py",
   "mimetype": "text/x-python",
   "name": "python",
   "nbconvert_exporter": "python",
   "pygments_lexer": "ipython3",
   "version": "3.13.5"
  }
 },
 "nbformat": 4,
 "nbformat_minor": 5
}
