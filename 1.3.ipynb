{
 "cells": [
  {
   "cell_type": "code",
   "execution_count": 1,
   "id": "c7588eb4-c439-4c45-b015-52dc6c19259a",
   "metadata": {},
   "outputs": [],
   "source": [
    "#code1"
   ]
  },
  {
   "cell_type": "code",
   "execution_count": 2,
   "id": "0024439d-1bdd-4f48-a840-2b0be1b62eef",
   "metadata": {},
   "outputs": [
    {
     "name": "stdin",
     "output_type": "stream",
     "text": [
      "Enter a number:  11\n"
     ]
    },
    {
     "name": "stdout",
     "output_type": "stream",
     "text": [
      "11 <class 'int'>\n",
      "11.0 <class 'float'>\n",
      "True <class 'bool'>\n"
     ]
    }
   ],
   "source": [
    "s = input(\"Enter a number: \")\n",
    "\n",
    "print(int(s), type(int(s)))\n",
    "print(float(s), type(float(s)))\n",
    "print(bool(s), type(bool(s)))\n"
   ]
  },
  {
   "cell_type": "code",
   "execution_count": 3,
   "id": "610e7e13-31ed-40aa-b108-8c02184af3e2",
   "metadata": {},
   "outputs": [],
   "source": [
    "#code2"
   ]
  },
  {
   "cell_type": "code",
   "execution_count": 4,
   "id": "5e720227-7630-455d-9830-4d6a5cc35018",
   "metadata": {},
   "outputs": [
    {
     "name": "stdin",
     "output_type": "stream",
     "text": [
      "Enter a float:  22\n"
     ]
    },
    {
     "name": "stdout",
     "output_type": "stream",
     "text": [
      "Float: 22.0\n",
      "Integer: 22 (decimal part removed)\n"
     ]
    }
   ],
   "source": [
    "num = float(input(\"Enter a float: \"))\n",
    "print(\"Float:\", num)\n",
    "print(\"Integer:\", int(num), \"(decimal part removed)\")\n"
   ]
  },
  {
   "cell_type": "code",
   "execution_count": 5,
   "id": "bb2658bd-b764-4cbf-b757-6df35ae59af5",
   "metadata": {},
   "outputs": [],
   "source": [
    "#code3"
   ]
  },
  {
   "cell_type": "code",
   "execution_count": 6,
   "id": "0d956765-8df0-4070-8838-0456fe4bc698",
   "metadata": {},
   "outputs": [
    {
     "name": "stdin",
     "output_type": "stream",
     "text": [
      "Enter True or False:  22\n"
     ]
    },
    {
     "name": "stdout",
     "output_type": "stream",
     "text": [
      "Bool: False\n",
      "Int: 0\n",
      "Str: False\n"
     ]
    }
   ],
   "source": [
    "b = input(\"Enter True or False: \") == \"True\"\n",
    "print(\"Bool:\", b)\n",
    "print(\"Int:\", int(b))\n",
    "print(\"Str:\", str(b))\n"
   ]
  },
  {
   "cell_type": "code",
   "execution_count": 7,
   "id": "4fc48f2e-621f-40f2-8706-6c2ce34f5975",
   "metadata": {},
   "outputs": [],
   "source": [
    "#code4"
   ]
  },
  {
   "cell_type": "code",
   "execution_count": 8,
   "id": "e092aa9f-1d5c-4149-8e11-b77b2a53fd54",
   "metadata": {},
   "outputs": [
    {
     "name": "stdout",
     "output_type": "stream",
     "text": [
      "10 <class 'int'> 140729352238280\n",
      "10.5 <class 'float'> 2016126876272\n",
      "Hello <class 'str'> 2016128685600\n",
      "True <class 'bool'> 140729351326176\n",
      "[1, 2] <class 'list'> 2016128672512\n",
      "(3, 4) <class 'tuple'> 2016128669952\n",
      "{'a': 1} <class 'dict'> 2016128419264\n"
     ]
    }
   ],
   "source": [
    "data = [10, 10.5, \"Hello\", True, [1,2], (3,4), {\"a\":1}]\n",
    "for d in data:\n",
    "    print(d, type(d), id(d))"
   ]
  },
  {
   "cell_type": "code",
   "execution_count": 9,
   "id": "4bfabd27-24bd-4627-8516-f9fb9f192b77",
   "metadata": {},
   "outputs": [],
   "source": [
    "#code 5"
   ]
  },
  {
   "cell_type": "code",
   "execution_count": 10,
   "id": "d7449e3f-4271-4af2-9a6d-f1ca1c386cea",
   "metadata": {},
   "outputs": [
    {
     "name": "stdout",
     "output_type": "stream",
     "text": [
      "a: 140729352238120 b: 140729352238120\n",
      "After change -> a: 140729352238120 b: 140729352238280\n"
     ]
    }
   ],
   "source": [
    "a = b = 5\n",
    "print(\"a:\", id(a), \"b:\", id(b))\n",
    "\n",
    "b = 10\n",
    "print(\"After change -> a:\", id(a), \"b:\", id(b))\n"
   ]
  },
  {
   "cell_type": "code",
   "execution_count": null,
   "id": "8d5ab77e-5064-485d-990d-25538ba5969f",
   "metadata": {},
   "outputs": [],
   "source": []
  }
 ],
 "metadata": {
  "kernelspec": {
   "display_name": "Python 3 (ipykernel)",
   "language": "python",
   "name": "python3"
  },
  "language_info": {
   "codemirror_mode": {
    "name": "ipython",
    "version": 3
   },
   "file_extension": ".py",
   "mimetype": "text/x-python",
   "name": "python",
   "nbconvert_exporter": "python",
   "pygments_lexer": "ipython3",
   "version": "3.13.5"
  }
 },
 "nbformat": 4,
 "nbformat_minor": 5
}
