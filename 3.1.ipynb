{
 "cells": [
  {
   "cell_type": "code",
   "execution_count": null,
   "id": "3c84c171-e5a6-41ee-8777-6eb777a899a0",
   "metadata": {},
   "outputs": [],
   "source": [
    "#code 1"
   ]
  },
  {
   "cell_type": "code",
   "execution_count": 24,
   "id": "5689e684-fd8b-48dc-b6d1-bb33919bf62f",
   "metadata": {},
   "outputs": [
    {
     "name": "stdin",
     "output_type": "stream",
     "text": [
      "enter a number 10\n"
     ]
    },
    {
     "name": "stdout",
     "output_type": "stream",
     "text": [
      "enter number is even\n"
     ]
    }
   ],
   "source": [
    "number=int(input('enter a number'))\n",
    "if number % 2== 0:\n",
    "    print(\"enter number is even\")\n",
    "else:\n",
    "    print(\"enter number is odd\")"
   ]
  },
  {
   "cell_type": "code",
   "execution_count": null,
   "id": "ac31cbee-b732-4d2b-b394-bec01ffe9fa6",
   "metadata": {},
   "outputs": [],
   "source": []
  },
  {
   "cell_type": "code",
   "execution_count": null,
   "id": "fa52e5f6-d2f1-417d-abaf-101d3fa30cb5",
   "metadata": {},
   "outputs": [],
   "source": [
    "#code 2"
   ]
  },
  {
   "cell_type": "code",
   "execution_count": null,
   "id": "a015a5bb-6a86-4614-96e4-eec4f6c39fea",
   "metadata": {},
   "outputs": [],
   "source": [
    "age = int(input(\"Enter your age: \"))\n",
    "\n",
    "if age >= 0:\n",
    "    if age <= 12:\n",
    "        print(\"Child\")\n",
    "    elif age <= 19:\n",
    "        print(\"Teenager\")\n",
    "    elif age <= 59:\n",
    "        print(\"Adult\")\n",
    "    else:\n",
    "        print(\"Senior\")\n",
    "else:\n",
    "    print(\"Invalid age\")"
   ]
  },
  {
   "cell_type": "code",
   "execution_count": null,
   "id": "4181a064-f23b-4a4b-9615-bb54d6abdd17",
   "metadata": {},
   "outputs": [],
   "source": []
  },
  {
   "cell_type": "code",
   "execution_count": 3,
   "id": "80833324-ec5a-45f8-baf8-41211c505aa6",
   "metadata": {},
   "outputs": [
    {
     "name": "stdin",
     "output_type": "stream",
     "text": [
      "enter first number:  60\n",
      "enter second number:  100\n",
      "third:  30\n"
     ]
    },
    {
     "name": "stdout",
     "output_type": "stream",
     "text": [
      "b is largest number: 100\n"
     ]
    }
   ],
   "source": [
    "#code 3\n",
    "a = int(input(\"enter first number: \"))\n",
    "b = int(input(\"enter second number: \"))\n",
    "c = int(input(\"third: \"))\n",
    "\n",
    "\n",
    "if a >= b and a >= c:\n",
    "    print(\"a is largest number:\", a)\n",
    "elif b >= a and b >= c:\n",
    "    print(\"b is largest number:\", b)\n",
    "else:\n",
    "    print(\"c is largest number:\", c)\n"
   ]
  },
  {
   "cell_type": "code",
   "execution_count": null,
   "id": "9727599e-2c7a-49f6-b464-034a2e1f8640",
   "metadata": {},
   "outputs": [],
   "source": []
  },
  {
   "cell_type": "code",
   "execution_count": null,
   "id": "ba8d0201-fc80-4eee-b35b-eebdcc33863f",
   "metadata": {},
   "outputs": [],
   "source": [
    "# code 4"
   ]
  },
  {
   "cell_type": "code",
   "execution_count": 9,
   "id": "48f5f020-e308-46fa-910b-6e1ac21477d7",
   "metadata": {},
   "outputs": [
    {
     "name": "stdin",
     "output_type": "stream",
     "text": [
      "enter your number:  -5\n"
     ]
    },
    {
     "name": "stdout",
     "output_type": "stream",
     "text": [
      "enter number is Negative\n"
     ]
    }
   ],
   "source": [
    "num = int(input(\"enter your number: \"))\n",
    "\n",
    "if num > 0:\n",
    "    print(\"enter number is positive\")\n",
    "elif num < 0:\n",
    "    print(\"enter number is Negative\")\n",
    "else:\n",
    "    print(\"enter number is  Neutral (Zero)\")\n"
   ]
  },
  {
   "cell_type": "code",
   "execution_count": null,
   "id": "8672d34b-4a63-42be-ad66-65675f712f16",
   "metadata": {},
   "outputs": [],
   "source": []
  },
  {
   "cell_type": "code",
   "execution_count": null,
   "id": "014f0ae9-f448-4756-b0d2-9949d2f51bf8",
   "metadata": {},
   "outputs": [],
   "source": []
  },
  {
   "cell_type": "code",
   "execution_count": null,
   "id": "9b81d3ee-15de-46da-a8f4-95be0122f76b",
   "metadata": {},
   "outputs": [],
   "source": []
  },
  {
   "cell_type": "code",
   "execution_count": null,
   "id": "437756a2-5ce7-43ec-bc80-c1c1542a98ad",
   "metadata": {},
   "outputs": [],
   "source": []
  },
  {
   "cell_type": "code",
   "execution_count": null,
   "id": "1fd9fc0f-8ff9-482b-b44d-44926217975a",
   "metadata": {},
   "outputs": [],
   "source": []
  },
  {
   "cell_type": "code",
   "execution_count": null,
   "id": "54a13ca6-d036-4858-bc3e-c8a3cabce6ee",
   "metadata": {},
   "outputs": [],
   "source": []
  },
  {
   "cell_type": "code",
   "execution_count": null,
   "id": "b02cfb3f-00af-40a1-af0e-7c78573544f1",
   "metadata": {},
   "outputs": [],
   "source": []
  },
  {
   "cell_type": "code",
   "execution_count": null,
   "id": "0d3deafb-b501-4c1a-81d7-dccd449feb06",
   "metadata": {},
   "outputs": [],
   "source": []
  },
  {
   "cell_type": "code",
   "execution_count": null,
   "id": "9697a3d8-d067-4a0d-a6de-d479783ea3ae",
   "metadata": {},
   "outputs": [],
   "source": []
  },
  {
   "cell_type": "code",
   "execution_count": null,
   "id": "111fea17-10ba-4dc1-8edf-b056d8a856b6",
   "metadata": {},
   "outputs": [],
   "source": []
  },
  {
   "cell_type": "code",
   "execution_count": null,
   "id": "62cb7280-c80b-46ac-a91f-47f1b49188c7",
   "metadata": {},
   "outputs": [],
   "source": []
  },
  {
   "cell_type": "code",
   "execution_count": null,
   "id": "5df1cc63-9105-4e00-b678-861bafc5e6a3",
   "metadata": {},
   "outputs": [],
   "source": []
  },
  {
   "cell_type": "code",
   "execution_count": null,
   "id": "709b9cc4-7955-4184-ab50-a08ea6e842e3",
   "metadata": {},
   "outputs": [],
   "source": []
  },
  {
   "cell_type": "code",
   "execution_count": null,
   "id": "91a82a21-3cc1-4ee9-998c-2a7d960b63c8",
   "metadata": {},
   "outputs": [],
   "source": []
  },
  {
   "cell_type": "code",
   "execution_count": null,
   "id": "c9763bb1-7b7b-45c6-a385-e22508ba5553",
   "metadata": {},
   "outputs": [],
   "source": []
  },
  {
   "cell_type": "code",
   "execution_count": null,
   "id": "1943ab55-6582-4898-a7d3-32c505e8e553",
   "metadata": {},
   "outputs": [],
   "source": []
  },
  {
   "cell_type": "code",
   "execution_count": null,
   "id": "fdf6f941-ad0a-4314-87cc-e5bac076e864",
   "metadata": {},
   "outputs": [],
   "source": []
  },
  {
   "cell_type": "code",
   "execution_count": null,
   "id": "6fccb254-0779-4d8f-912f-98f3e5f9825c",
   "metadata": {},
   "outputs": [],
   "source": []
  },
  {
   "cell_type": "code",
   "execution_count": null,
   "id": "4ec42e74-1a4c-4231-b39c-1f0c700ee314",
   "metadata": {},
   "outputs": [],
   "source": []
  },
  {
   "cell_type": "code",
   "execution_count": null,
   "id": "2a0a829a-8d4f-4f0b-9116-8b2340bab6f0",
   "metadata": {},
   "outputs": [],
   "source": []
  }
 ],
 "metadata": {
  "kernelspec": {
   "display_name": "Python 3 (ipykernel)",
   "language": "python",
   "name": "python3"
  },
  "language_info": {
   "codemirror_mode": {
    "name": "ipython",
    "version": 3
   },
   "file_extension": ".py",
   "mimetype": "text/x-python",
   "name": "python",
   "nbconvert_exporter": "python",
   "pygments_lexer": "ipython3",
   "version": "3.13.5"
  }
 },
 "nbformat": 4,
 "nbformat_minor": 5
}
