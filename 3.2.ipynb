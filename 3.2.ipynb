{
 "cells": [
  {
   "cell_type": "code",
   "execution_count": null,
   "id": "e5e13375-b501-4442-9927-2a471370c71f",
   "metadata": {},
   "outputs": [],
   "source": [
    "# code 1"
   ]
  },
  {
   "cell_type": "code",
   "execution_count": 1,
   "id": "ae44b7bf-4800-4240-a603-148d331ed7ac",
   "metadata": {},
   "outputs": [
    {
     "name": "stdin",
     "output_type": "stream",
     "text": [
      "Enter first number:  50\n",
      "Enter second number:  30\n",
      "Enter third number:  2\n"
     ]
    },
    {
     "name": "stdout",
     "output_type": "stream",
     "text": [
      "Maximum = 50\n"
     ]
    }
   ],
   "source": [
    "a = int(input(\"Enter first number: \"))\n",
    "b = int(input(\"Enter second number: \"))\n",
    "c = int(input(\"Enter third number: \"))\n",
    "\n",
    "if a > b:\n",
    "    if a > c:\n",
    "        print(\"Maximum =\", a)\n",
    "    else:\n",
    "        print(\"Maximum =\", c)\n",
    "else:\n",
    "    if b > c:\n",
    "        print(\"Maximum =\", b)\n",
    "    else:\n",
    "        print(\"Maximum =\", c)"
   ]
  },
  {
   "cell_type": "code",
   "execution_count": null,
   "id": "ae5e2a8b-af78-4e45-a1a7-f9daa8458a83",
   "metadata": {},
   "outputs": [],
   "source": []
  },
  {
   "cell_type": "code",
   "execution_count": null,
   "id": "637aa7a6-7e05-48ce-87d4-75ecf19bca4e",
   "metadata": {},
   "outputs": [],
   "source": [
    "# code 2"
   ]
  },
  {
   "cell_type": "code",
   "execution_count": 3,
   "id": "279e01f8-69a4-47ac-b776-fa04106d438d",
   "metadata": {},
   "outputs": [
    {
     "name": "stdin",
     "output_type": "stream",
     "text": [
      "Enter first number:  50\n",
      "Enter second number:  5\n",
      "Enter third number:  9\n"
     ]
    },
    {
     "name": "stdout",
     "output_type": "stream",
     "text": [
      "Minimum = 5\n"
     ]
    }
   ],
   "source": [
    "a = int(input(\"Enter first number: \"))\n",
    "b = int(input(\"Enter second number: \"))\n",
    "c = int(input(\"Enter third number: \"))\n",
    "\n",
    "if a < b:\n",
    "    if a < c:\n",
    "        print(\"Minimum =\", a)\n",
    "    else:\n",
    "        print(\"Minimum =\", c)\n",
    "else:\n",
    "    if b < c:\n",
    "        print(\"Minimum =\", b)\n",
    "    else:\n",
    "        print(\"Minimum =\", c)\n"
   ]
  },
  {
   "cell_type": "code",
   "execution_count": null,
   "id": "7e64a41f-7885-46cb-b4b6-7bd053a5837a",
   "metadata": {},
   "outputs": [],
   "source": []
  },
  {
   "cell_type": "code",
   "execution_count": null,
   "id": "7fa2fb1d-0e5e-4a8a-94d1-db44c3c84a41",
   "metadata": {},
   "outputs": [],
   "source": [
    "# code 3"
   ]
  },
  {
   "cell_type": "code",
   "execution_count": 4,
   "id": "e7ebbdf3-b449-435d-b205-e85c8405d102",
   "metadata": {},
   "outputs": [
    {
     "name": "stdin",
     "output_type": "stream",
     "text": [
      "Enter first number:  58\n",
      "Enter second number:  9\n",
      "Enter third number:  4\n",
      "Enter fourth number:  5\n"
     ]
    },
    {
     "name": "stdout",
     "output_type": "stream",
     "text": [
      "Maximum = 58\n"
     ]
    }
   ],
   "source": [
    "a = int(input(\"Enter first number: \"))\n",
    "b = int(input(\"Enter second number: \"))\n",
    "c = int(input(\"Enter third number: \"))\n",
    "d = int(input(\"Enter fourth number: \"))\n",
    "\n",
    "if a > b:\n",
    "    if a > c:\n",
    "        if a > d:\n",
    "            print(\"Maximum =\", a)\n",
    "        else:\n",
    "            print(\"Maximum =\", d)\n",
    "    else:\n",
    "        if c > d:\n",
    "            print(\"Maximum =\", c)\n",
    "        else:\n",
    "            print(\"Maximum =\", d)\n",
    "else:\n",
    "    if b > c:\n",
    "        if b > d:\n",
    "            print(\"Maximum =\", b)\n",
    "        else:\n",
    "            print(\"Maximum =\", d)\n",
    "    else:\n",
    "        if c > d:\n",
    "            print(\"Maximum =\", c)\n",
    "        else:\n",
    "            print(\"Maximum =\", d)"
   ]
  },
  {
   "cell_type": "code",
   "execution_count": null,
   "id": "e7742273-7086-4535-8f8a-c0f463af2020",
   "metadata": {},
   "outputs": [],
   "source": []
  },
  {
   "cell_type": "code",
   "execution_count": null,
   "id": "810ef050-129e-4084-99c0-2ac7634a5151",
   "metadata": {},
   "outputs": [],
   "source": [
    "# code 4"
   ]
  },
  {
   "cell_type": "code",
   "execution_count": 8,
   "id": "d47d3cf7-e1d9-4bd4-a12a-29451d24ef97",
   "metadata": {},
   "outputs": [
    {
     "name": "stdin",
     "output_type": "stream",
     "text": [
      "Enter first number:  10\n",
      "Enter second number:  20\n",
      "Enter operator (+, -, *, /):  *\n"
     ]
    },
    {
     "name": "stdout",
     "output_type": "stream",
     "text": [
      "Result = 200\n"
     ]
    }
   ],
   "source": [
    "num1 = int(input(\"Enter first number: \"))\n",
    "num2 = int(input(\"Enter second number: \"))\n",
    "op = input(\"Enter operator (+, -, *, /): \")\n",
    "\n",
    "match op:\n",
    "    case '+':\n",
    "        print(\"Result =\", num1 + num2)\n",
    "    case '-':\n",
    "        print(\"Result =\", num1 - num2)\n",
    "    case '*':\n",
    "        print(\"Result =\", num1 * num2)\n",
    "    case '/':\n",
    "        if num2 != 0:\n",
    "            print(\"Result =\", num1 / num2)\n",
    "        else:\n",
    "            print(\"Division by zero not allowed\")\n",
    "    case _:\n",
    "        print(\"Invalid operator\")\n"
   ]
  },
  {
   "cell_type": "code",
   "execution_count": null,
   "id": "8452a4f9-d04b-4ff6-860a-5d2017f21e2a",
   "metadata": {},
   "outputs": [],
   "source": []
  },
  {
   "cell_type": "code",
   "execution_count": null,
   "id": "03b092a1-e012-446e-91f1-b82fd5b634e6",
   "metadata": {},
   "outputs": [],
   "source": [
    "# code 5"
   ]
  },
  {
   "cell_type": "code",
   "execution_count": 13,
   "id": "5c4b9a08-2db3-47fb-aa07-cddfbe0276d3",
   "metadata": {},
   "outputs": [
    {
     "name": "stdout",
     "output_type": "stream",
     "text": [
      "Welcome to Fast Food Ordering System\n",
      "1. Sandwich\n",
      "2. Pizza\n",
      "3. Burger\n"
     ]
    },
    {
     "name": "stdin",
     "output_type": "stream",
     "text": [
      "Enter your choice:  2\n"
     ]
    },
    {
     "name": "stdout",
     "output_type": "stream",
     "text": [
      "Select Pizza Type:\n",
      "1. Thin Crust\n",
      "2. Cheese Burst\n",
      "3. Fresh Dough\n"
     ]
    },
    {
     "name": "stdin",
     "output_type": "stream",
     "text": [
      "Enter your choice:  3\n"
     ]
    },
    {
     "name": "stdout",
     "output_type": "stream",
     "text": [
      "You ordered Fresh Dough Pizza\n"
     ]
    }
   ],
   "source": [
    "print(\"Welcome to Fast Food Ordering System\")\n",
    "print(\"1. Sandwich\")\n",
    "print(\"2. Pizza\")\n",
    "print(\"3. Burger\")\n",
    "\n",
    "choice = int(input(\"Enter your choice: \"))\n",
    "\n",
    "match choice:\n",
    "    case 1:\n",
    "        print(\"You ordered a Sandwich\")\n",
    "    case 2:\n",
    "        print(\"Select Pizza Type:\")\n",
    "        print(\"1. Thin Crust\")\n",
    "        print(\"2. Cheese Burst\")\n",
    "        print(\"3. Fresh Dough\")\n",
    "        sub = int(input(\"Enter your choice: \"))\n",
    "        match sub:\n",
    "            case 1:\n",
    "                print(\"You ordered Thin Crust Pizza\")\n",
    "            case 2:\n",
    "                print(\"You ordered Cheese Burst Pizza\")\n",
    "            case 3:\n",
    "                print(\"You ordered Fresh Dough Pizza\")\n",
    "            case _:\n",
    "                print(\"Invalid Pizza choice\")\n",
    "    case 3:\n",
    "        print(\"You ordered a Burger\")\n",
    "    case _:\n",
    "        print(\"Invalid choice\")\n"
   ]
  },
  {
   "cell_type": "code",
   "execution_count": null,
   "id": "a358780b-2884-4587-8c82-1dca04377075",
   "metadata": {},
   "outputs": [],
   "source": []
  },
  {
   "cell_type": "code",
   "execution_count": null,
   "id": "793d8595-d8bd-4279-a162-db7c28774434",
   "metadata": {},
   "outputs": [],
   "source": [
    "# code 6"
   ]
  },
  {
   "cell_type": "code",
   "execution_count": 15,
   "id": "bd3d1ecc-915d-405d-a084-75c73f4f4782",
   "metadata": {},
   "outputs": [
    {
     "name": "stdout",
     "output_type": "stream",
     "text": [
      "Welcome to Telecom Calling System\n",
      "1. English\n",
      "2. Hindi\n",
      "3. Gujarati\n"
     ]
    },
    {
     "name": "stdin",
     "output_type": "stream",
     "text": [
      "Enter your choice:  3\n"
     ]
    },
    {
     "name": "stdout",
     "output_type": "stream",
     "text": [
      " tame pasandgi kari chhe\n",
      "1.tamaru balance 100/- chhe \n",
      "2.recharge safal thayu\n",
      "3.grahak seva sathe conect kari rahya chhe\n"
     ]
    },
    {
     "name": "stdin",
     "output_type": "stream",
     "text": [
      " 1\n"
     ]
    },
    {
     "name": "stdout",
     "output_type": "stream",
     "text": [
      "\n"
     ]
    }
   ],
   "source": [
    "print(\"Welcome to Telecom Calling System\")\n",
    "print(\"1. English\")\n",
    "print(\"2. Hindi\")\n",
    "print(\"3. Gujarati\")\n",
    "\n",
    "choice = int(input(\"Enter your choice: \"))\n",
    "\n",
    "match choice:\n",
    "    case 1:   # English\n",
    "        print(\"You selected English.\")\n",
    "        print(\"1. Balance Inquiry\")\n",
    "        print(\"2. Recharge\")\n",
    "        print(\"3. Customer Care\")\n",
    "        sub = int(input(\"Enter your choice: \"))\n",
    "        match sub:\n",
    "            case 1:\n",
    "                print(\"Your balance is ₹100.\")\n",
    "            case 2:\n",
    "                print(\"Recharge successful!\")\n",
    "            case 3:\n",
    "                print(\"Connecting to Customer Care...\")\n",
    "            case _:\n",
    "                print(\"Invalid option in English menu\")\n",
    "\n",
    "    case 2:\n",
    "        print(\"aapne hindi select kiya hai\")\n",
    "        print(\"1.balance ki jach\")\n",
    "        print(\"2. recharge\")\n",
    "        print(\"3.grahak seva \")\n",
    "        sub = int(input(\"aapka vikalp\"))\n",
    "        match sub:\n",
    "            case 1:\n",
    "                print(\"aapka balance 100/- hai\")\n",
    "            case 2:\n",
    "                print(\"recharge ho gaya\")\n",
    "            case 3:\n",
    "                print(\"customer service se jod rahe hai\")\n",
    "            case _:\n",
    "                print(\"galat pasandagi\")\n",
    "\n",
    "    case 3:\n",
    "        print(\" tame pasandgi kari chhe\")\n",
    "        print(\"1.tamaru balance 100/- chhe \")\n",
    "        print(\"2.recharge safal thayu\")\n",
    "        print(\"3.grahak seva sathe conect kari rahya chhe\")\n",
    "        sub = int(input(\"\"))\n",
    "        match sub:\n",
    "            case 1:\n",
    "                print(\"\")\n",
    "            case 2: \n",
    "                print(\"\")\n",
    "    \n"
   ]
  },
  {
   "cell_type": "code",
   "execution_count": null,
   "id": "e8233cf2-0a7c-43e5-b79d-bf34611cc442",
   "metadata": {},
   "outputs": [],
   "source": []
  }
 ],
 "metadata": {
  "kernelspec": {
   "display_name": "Python 3 (ipykernel)",
   "language": "python",
   "name": "python3"
  },
  "language_info": {
   "codemirror_mode": {
    "name": "ipython",
    "version": 3
   },
   "file_extension": ".py",
   "mimetype": "text/x-python",
   "name": "python",
   "nbconvert_exporter": "python",
   "pygments_lexer": "ipython3",
   "version": "3.13.5"
  }
 },
 "nbformat": 4,
 "nbformat_minor": 5
}
