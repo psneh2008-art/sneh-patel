{
 "cells": [
  {
   "cell_type": "code",
   "execution_count": null,
   "id": "fdcfe69d-4fcd-43f4-b6d5-0ea28332e125",
   "metadata": {},
   "outputs": [],
   "source": [
    "# code 1"
   ]
  },
  {
   "cell_type": "code",
   "execution_count": 2,
   "id": "b6e53611-c5a4-44fb-8e0f-36e9cef5a5cf",
   "metadata": {},
   "outputs": [
    {
     "name": "stdin",
     "output_type": "stream",
     "text": [
      "Enter a number (0 to stop):  0\n"
     ]
    },
    {
     "name": "stdout",
     "output_type": "stream",
     "text": [
      "Program ended.\n"
     ]
    }
   ],
   "source": [
    "num = int(input(\"Enter a number (0 to stop): \"))\n",
    "\n",
    "while num != 0:\n",
    "    print(\"You entered:\", num)\n",
    "    num = int(input(\"Enter a number (0 to stop): \"))\n",
    "\n",
    "print(\"Program ended.\")\n"
   ]
  },
  {
   "cell_type": "code",
   "execution_count": null,
   "id": "06268d23-62ec-4cdd-aa44-21524aab1d6b",
   "metadata": {},
   "outputs": [],
   "source": []
  },
  {
   "cell_type": "code",
   "execution_count": null,
   "id": "e1c55d41-e77e-405a-a4a4-baaab270c39f",
   "metadata": {},
   "outputs": [],
   "source": [
    "# code 2"
   ]
  },
  {
   "cell_type": "code",
   "execution_count": 5,
   "id": "b90b565c-be51-42cc-ab72-9195187a398a",
   "metadata": {},
   "outputs": [
    {
     "name": "stdout",
     "output_type": "stream",
     "text": [
      "1\n",
      "4\n",
      "9\n",
      "16\n",
      "25\n",
      "36\n",
      "49\n",
      "64\n",
      "81\n",
      "100\n"
     ]
    }
   ],
   "source": [
    "for i in range(1, 11):\n",
    "    print(i * i)\n"
   ]
  },
  {
   "cell_type": "code",
   "execution_count": null,
   "id": "87182a53-b872-4f9e-b119-58809eefb22c",
   "metadata": {},
   "outputs": [],
   "source": []
  },
  {
   "cell_type": "code",
   "execution_count": null,
   "id": "d1ec82ef-90e7-423d-92d8-cb6659ea3e22",
   "metadata": {},
   "outputs": [],
   "source": [
    "# code 3"
   ]
  },
  {
   "cell_type": "code",
   "execution_count": 6,
   "id": "d044200e-ae95-4835-8ecb-4dfa63ecd97d",
   "metadata": {},
   "outputs": [
    {
     "name": "stdout",
     "output_type": "stream",
     "text": [
      "2\n",
      "4\n",
      "6\n",
      "8\n",
      "10\n",
      "12\n",
      "14\n",
      "16\n",
      "18\n",
      "20\n",
      "22\n",
      "24\n",
      "26\n",
      "28\n",
      "30\n",
      "32\n",
      "34\n",
      "36\n",
      "38\n",
      "40\n",
      "42\n",
      "44\n",
      "46\n",
      "48\n",
      "50\n"
     ]
    }
   ],
   "source": [
    "num = 2\n",
    "while num <= 50:\n",
    "    print(num)\n",
    "    num += 2\n"
   ]
  },
  {
   "cell_type": "code",
   "execution_count": null,
   "id": "17b7d7ed-bbc4-451e-aad2-aa82c0548599",
   "metadata": {},
   "outputs": [],
   "source": []
  },
  {
   "cell_type": "code",
   "execution_count": null,
   "id": "8ff460a6-3cff-407c-9b20-e2de80fa5e66",
   "metadata": {},
   "outputs": [],
   "source": [
    "# code 4"
   ]
  },
  {
   "cell_type": "code",
   "execution_count": 7,
   "id": "36d83d59-e8f0-4c13-95df-886e928d358e",
   "metadata": {},
   "outputs": [
    {
     "name": "stdout",
     "output_type": "stream",
     "text": [
      "1\n",
      "3\n",
      "5\n",
      "7\n",
      "9\n",
      "11\n",
      "13\n",
      "15\n",
      "17\n",
      "19\n"
     ]
    }
   ],
   "source": [
    "for i in range(1, 21):\n",
    "    if i % 2 != 0:\n",
    "        print(i)\n"
   ]
  },
  {
   "cell_type": "code",
   "execution_count": null,
   "id": "18311cd5-3a35-4dbb-beab-c28d6cdfd54a",
   "metadata": {},
   "outputs": [],
   "source": []
  },
  {
   "cell_type": "code",
   "execution_count": null,
   "id": "2a9357e4-2df9-47dc-a3b6-8ff1bbf32bee",
   "metadata": {},
   "outputs": [],
   "source": [
    "# code 5"
   ]
  },
  {
   "cell_type": "code",
   "execution_count": 8,
   "id": "5f3bcc1c-bb1c-40dc-9f2c-c482914a8ba7",
   "metadata": {},
   "outputs": [
    {
     "name": "stdout",
     "output_type": "stream",
     "text": [
      "5\n",
      "10\n",
      "15\n",
      "20\n",
      "25\n",
      "30\n",
      "35\n",
      "40\n",
      "45\n",
      "50\n"
     ]
    }
   ],
   "source": [
    "for i in range(5, 51, 5):\n",
    "    print(i)\n"
   ]
  },
  {
   "cell_type": "code",
   "execution_count": null,
   "id": "e9c6ed7d-4863-4815-8f3d-7ba698e68e1b",
   "metadata": {},
   "outputs": [],
   "source": []
  },
  {
   "cell_type": "code",
   "execution_count": null,
   "id": "46573097-dcec-4d05-9348-d9b2e367f328",
   "metadata": {},
   "outputs": [],
   "source": [
    "#code 6"
   ]
  },
  {
   "cell_type": "code",
   "execution_count": 9,
   "id": "3780563a-882f-408a-aee4-81828ca15345",
   "metadata": {},
   "outputs": [
    {
     "name": "stdout",
     "output_type": "stream",
     "text": [
      "10\n",
      "9\n",
      "8\n",
      "7\n",
      "6\n",
      "5\n",
      "4\n",
      "3\n",
      "2\n",
      "1\n"
     ]
    }
   ],
   "source": [
    "for i in range(10, 0, -1):\n",
    "    print(i)\n"
   ]
  },
  {
   "cell_type": "code",
   "execution_count": null,
   "id": "d8e587f1-439d-42c5-a8b7-0196b7d1edc4",
   "metadata": {},
   "outputs": [],
   "source": []
  },
  {
   "cell_type": "code",
   "execution_count": null,
   "id": "a1f1058f-c7c2-4048-b3af-4223aa70af54",
   "metadata": {},
   "outputs": [],
   "source": [
    "# code 7"
   ]
  },
  {
   "cell_type": "code",
   "execution_count": 10,
   "id": "c464f352-0ae2-4b85-9b5f-f42d7279ec30",
   "metadata": {},
   "outputs": [
    {
     "name": "stdout",
     "output_type": "stream",
     "text": [
      "1 is not Divisible by 2 or 3\n",
      "2 is Divisible by 2\n",
      "3 is Divisible by 3\n",
      "4 is Divisible by 2\n",
      "5 is not Divisible by 2 or 3\n",
      "6 is Divisible by both 2 and 3\n",
      "7 is not Divisible by 2 or 3\n",
      "8 is Divisible by 2\n",
      "9 is Divisible by 3\n",
      "10 is Divisible by 2\n",
      "11 is not Divisible by 2 or 3\n",
      "12 is Divisible by both 2 and 3\n",
      "13 is not Divisible by 2 or 3\n",
      "14 is Divisible by 2\n",
      "15 is Divisible by 3\n",
      "16 is Divisible by 2\n",
      "17 is not Divisible by 2 or 3\n",
      "18 is Divisible by both 2 and 3\n",
      "19 is not Divisible by 2 or 3\n",
      "20 is Divisible by 2\n",
      "21 is Divisible by 3\n",
      "22 is Divisible by 2\n",
      "23 is not Divisible by 2 or 3\n",
      "24 is Divisible by both 2 and 3\n",
      "25 is not Divisible by 2 or 3\n",
      "26 is Divisible by 2\n",
      "27 is Divisible by 3\n",
      "28 is Divisible by 2\n",
      "29 is not Divisible by 2 or 3\n",
      "30 is Divisible by both 2 and 3\n",
      "31 is not Divisible by 2 or 3\n",
      "32 is Divisible by 2\n",
      "33 is Divisible by 3\n",
      "34 is Divisible by 2\n",
      "35 is not Divisible by 2 or 3\n",
      "36 is Divisible by both 2 and 3\n",
      "37 is not Divisible by 2 or 3\n",
      "38 is Divisible by 2\n",
      "39 is Divisible by 3\n",
      "40 is Divisible by 2\n",
      "41 is not Divisible by 2 or 3\n",
      "42 is Divisible by both 2 and 3\n",
      "43 is not Divisible by 2 or 3\n",
      "44 is Divisible by 2\n",
      "45 is Divisible by 3\n",
      "46 is Divisible by 2\n",
      "47 is not Divisible by 2 or 3\n",
      "48 is Divisible by both 2 and 3\n",
      "49 is not Divisible by 2 or 3\n",
      "50 is Divisible by 2\n"
     ]
    }
   ],
   "source": [
    "for i in range(1, 51):\n",
    "    if i % 2 == 0 and i % 3 == 0:\n",
    "        print(i, \"is Divisible by both 2 and 3\")\n",
    "    elif i % 2 == 0:\n",
    "        print(i, \"is Divisible by 2\")\n",
    "    elif i % 3 == 0:\n",
    "        print(i, \"is Divisible by 3\")\n",
    "    else:\n",
    "        print(i, \"is not Divisible by 2 or 3\")\n"
   ]
  },
  {
   "cell_type": "code",
   "execution_count": null,
   "id": "753ba073-544c-4004-ab6a-389e38f30f89",
   "metadata": {},
   "outputs": [],
   "source": []
  },
  {
   "cell_type": "code",
   "execution_count": null,
   "id": "b123968d-ce00-4bc6-8332-fdb3fae86af9",
   "metadata": {},
   "outputs": [],
   "source": []
  }
 ],
 "metadata": {
  "kernelspec": {
   "display_name": "Python 3 (ipykernel)",
   "language": "python",
   "name": "python3"
  },
  "language_info": {
   "codemirror_mode": {
    "name": "ipython",
    "version": 3
   },
   "file_extension": ".py",
   "mimetype": "text/x-python",
   "name": "python",
   "nbconvert_exporter": "python",
   "pygments_lexer": "ipython3",
   "version": "3.13.5"
  }
 },
 "nbformat": 4,
 "nbformat_minor": 5
}
