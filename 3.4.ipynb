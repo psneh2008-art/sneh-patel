{
 "cells": [
  {
   "cell_type": "code",
   "execution_count": null,
   "id": "16cda44a-bb56-4e0f-a60a-a982dfd8c943",
   "metadata": {},
   "outputs": [],
   "source": [
    "# code 1"
   ]
  },
  {
   "cell_type": "code",
   "execution_count": 3,
   "id": "ce43608d-c202-451b-b8b4-985969169e35",
   "metadata": {},
   "outputs": [
    {
     "name": "stdout",
     "output_type": "stream",
     "text": [
      "1\n",
      "2\n",
      "3\n",
      "5\n",
      "6\n",
      "7\n",
      "9\n",
      "10\n",
      "11\n",
      "13\n",
      "14\n",
      "15\n",
      "17\n",
      "18\n",
      "19\n"
     ]
    }
   ],
   "source": [
    "for i in range(1, 21):\n",
    "    if i % 4 == 0:\n",
    "        continue\n",
    "    print(i)\n"
   ]
  },
  {
   "cell_type": "code",
   "execution_count": null,
   "id": "91c52e1a-4375-4a6e-9cfe-fa44f53e4612",
   "metadata": {},
   "outputs": [],
   "source": []
  },
  {
   "cell_type": "code",
   "execution_count": null,
   "id": "145e467d-f42a-4802-9603-e82a4bf45600",
   "metadata": {},
   "outputs": [],
   "source": [
    "# code 2"
   ]
  },
  {
   "cell_type": "code",
   "execution_count": 4,
   "id": "33d690cf-b5ee-4147-9815-619b981556fd",
   "metadata": {},
   "outputs": [
    {
     "name": "stdout",
     "output_type": "stream",
     "text": [
      "1\n",
      "2\n",
      "3\n",
      "4\n",
      "5\n",
      "6\n"
     ]
    }
   ],
   "source": [
    "i = 1\n",
    "while i <= 10:\n",
    "    if i == 7:\n",
    "        break\n",
    "    print(i)\n",
    "    i += 1\n"
   ]
  },
  {
   "cell_type": "code",
   "execution_count": null,
   "id": "45fdeafc-b59f-4464-b5d9-2667be6acb80",
   "metadata": {},
   "outputs": [],
   "source": []
  },
  {
   "cell_type": "code",
   "execution_count": null,
   "id": "8ddf7cea-66d6-4943-9996-e598dd4456e4",
   "metadata": {},
   "outputs": [],
   "source": [
    "# code 3"
   ]
  },
  {
   "cell_type": "code",
   "execution_count": 2,
   "id": "93f512c5-6d6b-4587-ba18-8e4007293202",
   "metadata": {},
   "outputs": [
    {
     "name": "stdout",
     "output_type": "stream",
     "text": [
      "P Y T H N "
     ]
    }
   ],
   "source": [
    "word = \"PYTHON\"\n",
    "\n",
    "for ch in word:\n",
    "    if ch in \"AEIOUaeiou\":\n",
    "        continue\n",
    "    print(ch, end=\" \")\n"
   ]
  },
  {
   "cell_type": "code",
   "execution_count": null,
   "id": "750a64a3-ef62-4f5a-b505-65a8442ec942",
   "metadata": {},
   "outputs": [],
   "source": []
  },
  {
   "cell_type": "code",
   "execution_count": null,
   "id": "149f3126-7f3f-42c5-b16d-13a5e7b93831",
   "metadata": {},
   "outputs": [],
   "source": [
    "# code 4"
   ]
  },
  {
   "cell_type": "code",
   "execution_count": 5,
   "id": "da25446d-1d19-443b-b780-8ea5b699cc92",
   "metadata": {},
   "outputs": [
    {
     "name": "stdin",
     "output_type": "stream",
     "text": [
      "Enter a number:  1\n"
     ]
    },
    {
     "name": "stdout",
     "output_type": "stream",
     "text": [
      "1 x 1 = 1\n",
      "1 x 2 = 2\n",
      "1 x 3 = 3\n",
      "1 x 4 = 4\n",
      "1 x 5 = 5\n",
      "1 x 6 = 6\n",
      "1 x 7 = 7\n",
      "1 x 8 = 8\n",
      "1 x 9 = 9\n",
      "1 x 10 = 10\n",
      "\n"
     ]
    }
   ],
   "source": [
    "N = int(input(\"Enter a number: \"))\n",
    "\n",
    "for i in range(1, N + 1):\n",
    "    for j in range(1, 11):\n",
    "        print(f\"{i} x {j} = {i * j}\")\n",
    "    print()\n"
   ]
  },
  {
   "cell_type": "code",
   "execution_count": null,
   "id": "935206ea-ec87-4775-a889-2a8f09fa48d0",
   "metadata": {},
   "outputs": [],
   "source": []
  },
  {
   "cell_type": "code",
   "execution_count": null,
   "id": "feadf3c7-68e9-41ab-85cf-2c505792b278",
   "metadata": {},
   "outputs": [],
   "source": [
    "# code 5"
   ]
  },
  {
   "cell_type": "code",
   "execution_count": 6,
   "id": "fbac6164-e17e-4ae9-beb2-78e37381a7ad",
   "metadata": {},
   "outputs": [
    {
     "name": "stdout",
     "output_type": "stream",
     "text": [
      "1 \n",
      "1 2 \n",
      "1 2 3 \n",
      "1 2 3 4 \n",
      "1 2 3 4 5 \n"
     ]
    }
   ],
   "source": [
    "for i in range(1, 6):\n",
    "    for j in range(1, i + 1):\n",
    "        print(j, end=\" \")\n",
    "    print()\n"
   ]
  },
  {
   "cell_type": "code",
   "execution_count": null,
   "id": "244c8d25-af59-4549-a251-97e657436a52",
   "metadata": {},
   "outputs": [],
   "source": []
  },
  {
   "cell_type": "code",
   "execution_count": null,
   "id": "5bd21008-b91b-4049-8c56-16791203efd7",
   "metadata": {},
   "outputs": [],
   "source": [
    "# code 6"
   ]
  },
  {
   "cell_type": "code",
   "execution_count": 7,
   "id": "81754446-f901-4200-9491-181b83288f6e",
   "metadata": {},
   "outputs": [
    {
     "name": "stdout",
     "output_type": "stream",
     "text": [
      "5 \n",
      "5 4 \n",
      "5 4 3 \n",
      "5 4 3 2 \n",
      "5 4 3 2 1 \n"
     ]
    }
   ],
   "source": [
    "for i in range(1, 6):\n",
    "    for j in range(5, 5 - i, -1):\n",
    "        print(j, end=\" \")\n",
    "    print()\n"
   ]
  },
  {
   "cell_type": "code",
   "execution_count": null,
   "id": "2888be1d-8189-4037-a5cd-7d1e6fa9ef14",
   "metadata": {},
   "outputs": [],
   "source": []
  },
  {
   "cell_type": "code",
   "execution_count": null,
   "id": "2a1e83dd-1050-4e07-a5f1-1298414b06b0",
   "metadata": {},
   "outputs": [],
   "source": [
    "# code 7"
   ]
  },
  {
   "cell_type": "code",
   "execution_count": 8,
   "id": "4ca45076-4667-4dcb-98c1-e42adf2be98c",
   "metadata": {},
   "outputs": [
    {
     "name": "stdout",
     "output_type": "stream",
     "text": [
      "5 \n",
      "4 5 \n",
      "3 4 5 \n"
     ]
    }
   ],
   "source": [
    "for i in range(5, 2, -1):\n",
    "    for j in range(i, 6):\n",
    "        print(j, end=\" \")\n",
    "    print()\n"
   ]
  },
  {
   "cell_type": "code",
   "execution_count": null,
   "id": "aaaabd11-6e36-4ab1-b8f6-8af3f755d830",
   "metadata": {},
   "outputs": [],
   "source": []
  },
  {
   "cell_type": "code",
   "execution_count": null,
   "id": "6ebf702c-89f4-4da4-8d80-47450833827c",
   "metadata": {},
   "outputs": [],
   "source": []
  }
 ],
 "metadata": {
  "kernelspec": {
   "display_name": "Python 3 (ipykernel)",
   "language": "python",
   "name": "python3"
  },
  "language_info": {
   "codemirror_mode": {
    "name": "ipython",
    "version": 3
   },
   "file_extension": ".py",
   "mimetype": "text/x-python",
   "name": "python",
   "nbconvert_exporter": "python",
   "pygments_lexer": "ipython3",
   "version": "3.13.5"
  }
 },
 "nbformat": 4,
 "nbformat_minor": 5
}
