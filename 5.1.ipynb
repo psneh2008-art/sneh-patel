{
 "cells": [
  {
   "cell_type": "code",
   "execution_count": null,
   "id": "45843f22-119e-45b6-8ba4-2be43dcb67fa",
   "metadata": {},
   "outputs": [],
   "source": [
    "# code 1"
   ]
  },
  {
   "cell_type": "code",
   "execution_count": 1,
   "id": "6b7840dd-44fb-4928-bedf-01f2712670eb",
   "metadata": {},
   "outputs": [
    {
     "name": "stdin",
     "output_type": "stream",
     "text": [
      "Enter first name:  patel\n",
      "Enter last name:  sneh\n"
     ]
    },
    {
     "name": "stdout",
     "output_type": "stream",
     "text": [
      "Hello, sneh, patel!\n"
     ]
    }
   ],
   "source": [
    "first_name = input(\"Enter first name: \")\n",
    "last_name = input(\"Enter last name: \")\n",
    "print(f\"Hello, {last_name}, {first_name}!\")\n"
   ]
  },
  {
   "cell_type": "code",
   "execution_count": null,
   "id": "89633f59-1d46-4f4f-afbb-44b528c17fe7",
   "metadata": {},
   "outputs": [],
   "source": []
  },
  {
   "cell_type": "code",
   "execution_count": null,
   "id": "0e733f39-b3bd-4ff9-bbc9-9258b9d16348",
   "metadata": {},
   "outputs": [],
   "source": [
    "# code 2"
   ]
  },
  {
   "cell_type": "code",
   "execution_count": 6,
   "id": "50b7a332-9a08-4e0d-b988-25e44761a2fb",
   "metadata": {},
   "outputs": [
    {
     "name": "stdout",
     "output_type": "stream",
     "text": [
      "The price of apple is 5.5 dollars.\n"
     ]
    }
   ],
   "source": [
    "item = \"apple\"\n",
    "price = 5.50\n",
    "print(f\"The price of {item} is {price} dollars.\")\n"
   ]
  },
  {
   "cell_type": "code",
   "execution_count": null,
   "id": "16306985-8b81-497a-b617-1e51f716ef68",
   "metadata": {},
   "outputs": [],
   "source": []
  },
  {
   "cell_type": "code",
   "execution_count": null,
   "id": "086c15f0-a45a-48e7-b09b-5d66ec44146b",
   "metadata": {},
   "outputs": [],
   "source": [
    "# code 3"
   ]
  },
  {
   "cell_type": "code",
   "execution_count": 7,
   "id": "17d39464-2647-4f50-9a25-e0fdc48c2569",
   "metadata": {},
   "outputs": [
    {
     "name": "stdin",
     "output_type": "stream",
     "text": [
      "Enter a string:  Hello\n"
     ]
    },
    {
     "name": "stdout",
     "output_type": "stream",
     "text": [
      "Reversed string: olleH\n",
      "It is not a palindrome.\n"
     ]
    }
   ],
   "source": [
    "s = input(\"Enter a string: \")\n",
    "reversed_s = s[::-1]\n",
    "print(\"Reversed string:\", reversed_s)\n",
    "\n",
    "if s == reversed_s:\n",
    "    print(\"It is a palindrome.\")\n",
    "else:\n",
    "    print(\"It is not a palindrome.\")\n"
   ]
  },
  {
   "cell_type": "code",
   "execution_count": null,
   "id": "ef95c611-872c-4116-945d-830085b4abd3",
   "metadata": {},
   "outputs": [],
   "source": []
  },
  {
   "cell_type": "code",
   "execution_count": null,
   "id": "3a21d020-3873-499a-979f-061bb8ec489d",
   "metadata": {},
   "outputs": [],
   "source": [
    "# code 4"
   ]
  },
  {
   "cell_type": "code",
   "execution_count": 8,
   "id": "159e6118-5ea1-459a-b78a-24ac9c0a450b",
   "metadata": {},
   "outputs": [
    {
     "name": "stdin",
     "output_type": "stream",
     "text": [
      "Enter a string:  sneh\n"
     ]
    },
    {
     "name": "stdout",
     "output_type": "stream",
     "text": [
      "Uppercase: SNEH\n",
      "Lowercase: sneh\n",
      "Titlecase: Sneh\n"
     ]
    }
   ],
   "source": [
    "s = input(\"Enter a string: \")\n",
    "print(\"Uppercase:\", s.upper())\n",
    "print(\"Lowercase:\", s.lower())\n",
    "print(\"Titlecase:\", s.title())\n"
   ]
  },
  {
   "cell_type": "code",
   "execution_count": null,
   "id": "f6bb0b35-1026-4808-b243-01e696fb84f4",
   "metadata": {},
   "outputs": [],
   "source": []
  },
  {
   "cell_type": "code",
   "execution_count": null,
   "id": "3f99060b-505c-41ca-a5bc-e8d5a3cb038d",
   "metadata": {},
   "outputs": [],
   "source": [
    "# code 5"
   ]
  },
  {
   "cell_type": "code",
   "execution_count": 9,
   "id": "923e7eff-d99c-4436-bb5a-c696b4c1d00a",
   "metadata": {},
   "outputs": [
    {
     "name": "stdout",
     "output_type": "stream",
     "text": [
      "Position of 'AI': 21\n",
      "Updated sentence: Machine Learning and Artificial Intelligence are trending\n",
      "Count of 'data': 3\n"
     ]
    }
   ],
   "source": [
    "sentence = \"Machine Learning and AI are trending\"\n",
    "position = sentence.find(\"AI\")\n",
    "print(\"Position of 'AI':\", position)\n",
    "\n",
    "new_sentence = sentence.replace(\"AI\", \"Artificial Intelligence\")\n",
    "print(\"Updated sentence:\", new_sentence)\n",
    "\n",
    "data_text = \"data data mining and big data\"\n",
    "count = data_text.count(\"data\")\n",
    "print(\"Count of 'data':\", count)\n"
   ]
  },
  {
   "cell_type": "code",
   "execution_count": null,
   "id": "0cc3ab7b-3479-44a9-ad32-94c5531f610e",
   "metadata": {},
   "outputs": [],
   "source": []
  },
  {
   "cell_type": "code",
   "execution_count": null,
   "id": "db160410-5c4c-4baf-b542-390c2890db2b",
   "metadata": {},
   "outputs": [],
   "source": [
    "# code 6"
   ]
  },
  {
   "cell_type": "code",
   "execution_count": 10,
   "id": "c3efada9-c087-4c55-93b6-7626efa500d4",
   "metadata": {},
   "outputs": [
    {
     "name": "stdout",
     "output_type": "stream",
     "text": [
      "['apple', 'banana', 'grapes']\n",
      "Python is awesome\n",
      "Hello world\n",
      "Python is fun\n",
      "Keep learning\n"
     ]
    }
   ],
   "source": [
    "fruits = \"apple,banana,grapes\"\n",
    "fruit_list = fruits.split(\",\")\n",
    "print(fruit_list)\n",
    "\n",
    "words = [\"Python\", \"is\", \"awesome\"]\n",
    "sentence = \" \".join(words)\n",
    "print(sentence)\n",
    "\n",
    "multi_line = \"\"\"Hello world\n",
    "Python is fun\n",
    "Keep learning\"\"\"\n",
    "lines = multi_line.splitlines()\n",
    "for line in lines:\n",
    "    print(line)\n"
   ]
  },
  {
   "cell_type": "code",
   "execution_count": null,
   "id": "5f7d7e98-16a8-4354-9b62-0eb632bf5a2b",
   "metadata": {},
   "outputs": [],
   "source": []
  },
  {
   "cell_type": "code",
   "execution_count": null,
   "id": "736a3011-0b80-499f-816a-1e42773157d9",
   "metadata": {},
   "outputs": [],
   "source": [
    "# code 7"
   ]
  },
  {
   "cell_type": "code",
   "execution_count": 11,
   "id": "221f4888-e332-42ed-be28-7ab756d8db44",
   "metadata": {},
   "outputs": [
    {
     "name": "stdout",
     "output_type": "stream",
     "text": [
      "True\n",
      "True\n",
      "Only alphabets: DataScience\n",
      "Reversed: nohtyP\n"
     ]
    }
   ],
   "source": [
    "s1 = \"HelloPythonWorld\"\n",
    "print(s1.startswith(\"Hello\"))\n",
    "print(s1.endswith(\"World\"))\n",
    "\n",
    "s2 = \"Data123#Science!\"\n",
    "cleaned = \"\".join(ch for ch in s2 if ch.isalpha())\n",
    "print(\"Only alphabets:\", cleaned)\n",
    "\n",
    "s3 = \"Python\"\n",
    "print(\"Reversed:\", s3[::-1])\n"
   ]
  },
  {
   "cell_type": "code",
   "execution_count": null,
   "id": "363398c0-3224-4869-b235-f1191b9c97a6",
   "metadata": {},
   "outputs": [],
   "source": []
  },
  {
   "cell_type": "code",
   "execution_count": null,
   "id": "17f4c601-db58-4220-8ce5-49d5de87d69a",
   "metadata": {},
   "outputs": [],
   "source": []
  },
  {
   "cell_type": "code",
   "execution_count": null,
   "id": "4476ecce-8083-4061-a261-83791d0f45ae",
   "metadata": {},
   "outputs": [],
   "source": []
  },
  {
   "cell_type": "code",
   "execution_count": null,
   "id": "8041ada6-26cb-432b-beae-1134b678193b",
   "metadata": {},
   "outputs": [],
   "source": []
  },
  {
   "cell_type": "code",
   "execution_count": null,
   "id": "bff08af9-fe3a-44f2-b979-52fba993bb12",
   "metadata": {},
   "outputs": [],
   "source": []
  },
  {
   "cell_type": "code",
   "execution_count": null,
   "id": "a39b5056-8f84-4dbe-8c0b-a05e381ea199",
   "metadata": {},
   "outputs": [],
   "source": []
  },
  {
   "cell_type": "code",
   "execution_count": null,
   "id": "d126f6cf-00c9-4d99-b953-e72b700a22ae",
   "metadata": {},
   "outputs": [],
   "source": []
  },
  {
   "cell_type": "code",
   "execution_count": null,
   "id": "004c31a3-8dd2-4852-83dd-cc2ad2ed2b2a",
   "metadata": {},
   "outputs": [],
   "source": []
  }
 ],
 "metadata": {
  "kernelspec": {
   "display_name": "Python 3 (ipykernel)",
   "language": "python",
   "name": "python3"
  },
  "language_info": {
   "codemirror_mode": {
    "name": "ipython",
    "version": 3
   },
   "file_extension": ".py",
   "mimetype": "text/x-python",
   "name": "python",
   "nbconvert_exporter": "python",
   "pygments_lexer": "ipython3",
   "version": "3.13.5"
  }
 },
 "nbformat": 4,
 "nbformat_minor": 5
}
