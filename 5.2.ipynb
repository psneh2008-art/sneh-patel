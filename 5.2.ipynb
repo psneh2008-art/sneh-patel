{
 "cells": [
  {
   "cell_type": "code",
   "execution_count": null,
   "id": "00fb4ba8-8e9c-4c5b-a00b-ad919155b898",
   "metadata": {},
   "outputs": [],
   "source": [
    "# code 1"
   ]
  },
  {
   "cell_type": "code",
   "execution_count": 1,
   "id": "dd2eda90-aa2f-4bb7-8c78-77409a61d7cc",
   "metadata": {},
   "outputs": [
    {
     "name": "stdout",
     "output_type": "stream",
     "text": [
      "Second fruit: Banana\n",
      "Last fruit: Grapes\n",
      "Final list: ['Orange', 'Mango', 'Grapes', 'Cherry', 'Banana']\n"
     ]
    }
   ],
   "source": [
    "fruits = [\"Apple\", \"Banana\", \"Cherry\", \"Orange\", \"Grapes\"]\n",
    "print(\"Second fruit:\", fruits[1])\n",
    "print(\"Last fruit:\", fruits[-1])\n",
    "fruits.append(\"Mango\")\n",
    "fruits.pop(0)\n",
    "fruits.sort()\n",
    "fruits.reverse()\n",
    "\n",
    "print(\"Final list:\", fruits)\n"
   ]
  },
  {
   "cell_type": "code",
   "execution_count": null,
   "id": "7b5a5f9a-54c0-40e4-865e-f37b450c89d8",
   "metadata": {},
   "outputs": [],
   "source": []
  },
  {
   "cell_type": "code",
   "execution_count": null,
   "id": "eee859f1-f4ee-469c-82fd-ea50f9ee5f10",
   "metadata": {},
   "outputs": [],
   "source": [
    "# code 2"
   ]
  },
  {
   "cell_type": "code",
   "execution_count": 3,
   "id": "dd95eece-2d46-4f92-b699-47483054e6a8",
   "metadata": {},
   "outputs": [
    {
     "name": "stdout",
     "output_type": "stream",
     "text": [
      "Third item: 30\n",
      "Error: 'tuple' object does not support item assignment\n"
     ]
    }
   ],
   "source": [
    "numbers = (10, 20, 30, 40, 50)\n",
    "print(\"Third item:\", numbers[2])\n",
    "\n",
    "try:\n",
    "    numbers[1] = 99\n",
    "except TypeError as e:\n",
    "    print(\"Error:\", e)"
   ]
  },
  {
   "cell_type": "code",
   "execution_count": null,
   "id": "ad7e7152-cb14-45e2-8744-3459b1fa4b63",
   "metadata": {},
   "outputs": [],
   "source": []
  },
  {
   "cell_type": "code",
   "execution_count": null,
   "id": "0d19fcdf-01d9-405c-a6c6-dc207371ffed",
   "metadata": {},
   "outputs": [],
   "source": [
    "# code 3"
   ]
  },
  {
   "cell_type": "code",
   "execution_count": 4,
   "id": "c4c33200-424d-48b0-be1d-fbafb242c515",
   "metadata": {},
   "outputs": [
    {
     "name": "stdout",
     "output_type": "stream",
     "text": [
      "Modified list: [10, 2, 3]\n",
      "Error: 'tuple' object does not support item assignment\n"
     ]
    }
   ],
   "source": [
    "my_list = [1, 2, 3]\n",
    "my_tuple = (1, 2, 3)\n",
    "my_list[0] = 10\n",
    "print(\"Modified list:\", my_list)\n",
    "try:\n",
    "    my_tuple[0] = 10\n",
    "except TypeError as e:\n",
    "    print(\"Error:\", e)"
   ]
  },
  {
   "cell_type": "code",
   "execution_count": null,
   "id": "64a4aa13-f4a3-499c-844c-94b2710ce563",
   "metadata": {},
   "outputs": [],
   "source": []
  },
  {
   "cell_type": "code",
   "execution_count": null,
   "id": "b876a36e-3d29-4366-9fbf-3255e89e2473",
   "metadata": {},
   "outputs": [],
   "source": [
    "#code 4"
   ]
  },
  {
   "cell_type": "code",
   "execution_count": 5,
   "id": "f0291833-5462-429a-9b2e-0072328a12ac",
   "metadata": {},
   "outputs": [
    {
     "name": "stdout",
     "output_type": "stream",
     "text": [
      "Squares: [1, 4, 9, 16, 25, 36, 49, 64, 81, 100]\n",
      "Even numbers: [2, 4, 6, 8, 10, 12, 14, 16, 18, 20]\n",
      "Lowercase list: ['hello', 'world', 'python']\n"
     ]
    }
   ],
   "source": [
    "squares = [x**2 for x in range(1, 11)]\n",
    "print(\"Squares:\", squares)\n",
    "even_numbers = [x for x in range(1, 21) if x % 2 == 0]\n",
    "print(\"Even numbers:\", even_numbers)\n",
    "\n",
    "words = [\"hello\", \"WORLD\", \"PyThOn\"]\n",
    "lowercase_words = [w.lower() for w in words]\n",
    "print(\"Lowercase list:\", lowercase_words)"
   ]
  },
  {
   "cell_type": "code",
   "execution_count": null,
   "id": "2e4d156f-fe72-421b-a399-f2aa5f6add80",
   "metadata": {},
   "outputs": [],
   "source": []
  }
 ],
 "metadata": {
  "kernelspec": {
   "display_name": "Python 3 (ipykernel)",
   "language": "python",
   "name": "python3"
  },
  "language_info": {
   "codemirror_mode": {
    "name": "ipython",
    "version": 3
   },
   "file_extension": ".py",
   "mimetype": "text/x-python",
   "name": "python",
   "nbconvert_exporter": "python",
   "pygments_lexer": "ipython3",
   "version": "3.13.5"
  }
 },
 "nbformat": 4,
 "nbformat_minor": 5
}
