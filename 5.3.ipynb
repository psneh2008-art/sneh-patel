{
 "cells": [
  {
   "cell_type": "code",
   "execution_count": null,
   "id": "8dc32f38-0617-46fd-b2e5-577c6fe38422",
   "metadata": {},
   "outputs": [],
   "source": [
    "# code 1"
   ]
  },
  {
   "cell_type": "code",
   "execution_count": 1,
   "id": "ec1b9f92-33ce-46c3-989f-1bac3991ed1c",
   "metadata": {},
   "outputs": [
    {
     "name": "stdout",
     "output_type": "stream",
     "text": [
      "True\n",
      "{1, 2, 4, 5, 6}\n"
     ]
    }
   ],
   "source": [
    "numbers = {1, 2, 3, 4, 5}\n",
    "numbers.add(6)\n",
    "numbers.remove(3)\n",
    "print(2 in numbers)\n",
    "print(numbers)\n"
   ]
  },
  {
   "cell_type": "code",
   "execution_count": null,
   "id": "5e3aedb2-14e3-43e4-b415-9b3ef519a509",
   "metadata": {},
   "outputs": [],
   "source": []
  },
  {
   "cell_type": "code",
   "execution_count": null,
   "id": "fd4fc6a7-7ac6-465b-a86f-553ff878be46",
   "metadata": {},
   "outputs": [],
   "source": [
    "# code 2"
   ]
  },
  {
   "cell_type": "code",
   "execution_count": 2,
   "id": "5de02205-71d9-4dd9-b25f-cd276f5ae290",
   "metadata": {},
   "outputs": [
    {
     "name": "stdout",
     "output_type": "stream",
     "text": [
      "Union: {1, 2, 3, 4, 5, 6}\n",
      "Intersection: {3, 4}\n",
      "Difference: {1, 2}\n"
     ]
    }
   ],
   "source": [
    "set_a = {1, 2, 3, 4}\n",
    "set_b = {3, 4, 5, 6}\n",
    "\n",
    "print(\"Union:\", set_a | set_b)\n",
    "print(\"Intersection:\", set_a & set_b)\n",
    "print(\"Difference:\", set_a - set_b)"
   ]
  },
  {
   "cell_type": "code",
   "execution_count": null,
   "id": "3f0f4bba-f15f-476b-88d3-b10768d9eb32",
   "metadata": {},
   "outputs": [],
   "source": []
  },
  {
   "cell_type": "code",
   "execution_count": null,
   "id": "dc1f1c04-534f-455c-adf5-d1172023da56",
   "metadata": {},
   "outputs": [],
   "source": [
    "# code 3"
   ]
  },
  {
   "cell_type": "code",
   "execution_count": 3,
   "id": "17adb692-b134-42a6-86ac-cb83e41706e1",
   "metadata": {},
   "outputs": [
    {
     "name": "stdout",
     "output_type": "stream",
     "text": [
      "dict_keys(['name', 'age', 'grade'])\n",
      "dict_values(['Alice', 20, 'A'])\n",
      "{'name': 'Alice', 'age': 21, 'city': 'Delhi'}\n"
     ]
    }
   ],
   "source": [
    "student = {\"name\": \"Alice\", \"age\": 20, \"grade\": \"A\"}\n",
    "print(student.keys())\n",
    "print(student.values())\n",
    "\n",
    "student[\"city\"] = \"Delhi\"\n",
    "student[\"age\"] = 21\n",
    "del student[\"grade\"]\n",
    "\n",
    "print(student)\n"
   ]
  },
  {
   "cell_type": "code",
   "execution_count": null,
   "id": "e5f56b9c-d63c-44f0-b8ff-94e7fa0cee01",
   "metadata": {},
   "outputs": [],
   "source": []
  },
  {
   "cell_type": "code",
   "execution_count": null,
   "id": "d741f580-952b-4ccd-b1bb-d1668dcb0454",
   "metadata": {},
   "outputs": [],
   "source": [
    "# code 4"
   ]
  },
  {
   "cell_type": "code",
   "execution_count": 4,
   "id": "36b53e88-a705-49a4-ad88-afa83fead4f5",
   "metadata": {},
   "outputs": [
    {
     "name": "stdout",
     "output_type": "stream",
     "text": [
      "{'id': 101, 'name': 'Bob', 'email': 'bob@example.com'}\n"
     ]
    }
   ],
   "source": [
    "keys = ['id', 'name', 'email']\n",
    "values = [101, 'Bob', 'bob@example.com']\n",
    "\n",
    "my_dict = dict(zip(keys, values))\n",
    "print(my_dict)\n"
   ]
  },
  {
   "cell_type": "code",
   "execution_count": null,
   "id": "44722291-1c4f-4bdb-be28-15f214da96a5",
   "metadata": {},
   "outputs": [],
   "source": []
  },
  {
   "cell_type": "code",
   "execution_count": null,
   "id": "b72c968d-c80c-4d8c-9e5b-18eaae49bc58",
   "metadata": {},
   "outputs": [],
   "source": [
    "# code 5"
   ]
  },
  {
   "cell_type": "code",
   "execution_count": 5,
   "id": "95d7b292-33b5-4387-900f-d1b817662c8a",
   "metadata": {},
   "outputs": [
    {
     "name": "stdout",
     "output_type": "stream",
     "text": [
      "123\n",
      "(1, 2, 3)\n",
      "[4, 5, 6]\n",
      "{1: 'A', 2: 'B'}\n"
     ]
    }
   ],
   "source": [
    "print(int(\"123\"))\n",
    "print(tuple([1, 2, 3]))\n",
    "print(list((4, 5, 6)))\n",
    "print(dict([(1, 'A'), (2, 'B')]))\n"
   ]
  },
  {
   "cell_type": "code",
   "execution_count": null,
   "id": "51b60bb7-cd92-4bc0-818a-46f1c3a95adc",
   "metadata": {},
   "outputs": [],
   "source": []
  },
  {
   "cell_type": "code",
   "execution_count": null,
   "id": "d502cbfa-54cc-4f5c-b9ca-0384653e5571",
   "metadata": {},
   "outputs": [],
   "source": [
    "# code 6"
   ]
  },
  {
   "cell_type": "code",
   "execution_count": 6,
   "id": "f4384ce2-0a39-4498-b983-7e63181fa8a4",
   "metadata": {},
   "outputs": [
    {
     "name": "stdout",
     "output_type": "stream",
     "text": [
      "['apple', 'cherry']\n"
     ]
    }
   ],
   "source": [
    "fruits = [\"apple\", \"banana\", \"cherry\"]\n",
    "del fruits[1]\n",
    "print(fruits)"
   ]
  },
  {
   "cell_type": "code",
   "execution_count": null,
   "id": "9a702df5-4c85-4259-bad3-8748e66f0128",
   "metadata": {},
   "outputs": [],
   "source": []
  },
  {
   "cell_type": "code",
   "execution_count": null,
   "id": "eda57152-9f9c-4f8e-86ce-c389fbacaa46",
   "metadata": {},
   "outputs": [],
   "source": []
  },
  {
   "cell_type": "code",
   "execution_count": null,
   "id": "46a5d966-8114-40fa-9343-40d6e7e4a751",
   "metadata": {},
   "outputs": [],
   "source": []
  },
  {
   "cell_type": "code",
   "execution_count": null,
   "id": "6c4bc206-2892-4454-9903-016320a746ca",
   "metadata": {},
   "outputs": [],
   "source": []
  },
  {
   "cell_type": "code",
   "execution_count": null,
   "id": "b70ea922-1456-4d31-a96d-9a821bbba10d",
   "metadata": {},
   "outputs": [],
   "source": []
  },
  {
   "cell_type": "code",
   "execution_count": null,
   "id": "80ed715e-c024-4f01-88a8-8fcd095ddaa1",
   "metadata": {},
   "outputs": [],
   "source": []
  },
  {
   "cell_type": "code",
   "execution_count": null,
   "id": "24475ff0-1f98-45e2-8271-86ea0793148f",
   "metadata": {},
   "outputs": [],
   "source": []
  },
  {
   "cell_type": "code",
   "execution_count": null,
   "id": "cd58cc5d-0f70-4c3a-8e73-00334f2bf0b8",
   "metadata": {},
   "outputs": [],
   "source": []
  },
  {
   "cell_type": "code",
   "execution_count": null,
   "id": "1998e9db-82f4-48e4-b7aa-b1dd6eb16298",
   "metadata": {},
   "outputs": [],
   "source": []
  }
 ],
 "metadata": {
  "kernelspec": {
   "display_name": "Python 3 (ipykernel)",
   "language": "python",
   "name": "python3"
  },
  "language_info": {
   "codemirror_mode": {
    "name": "ipython",
    "version": 3
   },
   "file_extension": ".py",
   "mimetype": "text/x-python",
   "name": "python",
   "nbconvert_exporter": "python",
   "pygments_lexer": "ipython3",
   "version": "3.13.5"
  }
 },
 "nbformat": 4,
 "nbformat_minor": 5
}
