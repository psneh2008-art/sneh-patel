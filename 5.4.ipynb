{
 "cells": [
  {
   "cell_type": "code",
   "execution_count": null,
   "id": "2dd1177e-8f22-4e91-8159-4663ba5fc66a",
   "metadata": {},
   "outputs": [],
   "source": [
    "# code 1"
   ]
  },
  {
   "cell_type": "code",
   "execution_count": 2,
   "id": "b3377d49-818e-418c-9417-e14a91b590bf",
   "metadata": {},
   "outputs": [
    {
     "name": "stdout",
     "output_type": "stream",
     "text": [
      "Student Names:\n",
      "Alice\n",
      "Bob\n",
      "Charlie\n",
      "\n",
      "Average Score: 85.0\n",
      "\n",
      "Students with score > 80:\n",
      "Alice\n",
      "Bob\n",
      "David\n",
      "\n",
      "Topper: Bob with score 88\n",
      "\n",
      "Student Report:\n",
      "Name: Bob | Score: 88 | Grade: B\n",
      "Name: David | Score: 88 | Grade: B\n",
      "Name: Alice | Score: 85 | Grade: B\n",
      "\n",
      "Grade Counts: {'B': 3}\n",
      "\n",
      "Data exported to students.csv\n",
      "\n",
      "Stats from CSV:\n",
      "Mean: 87.0\n",
      "Min: 85\n",
      "Max: 88\n"
     ]
    }
   ],
   "source": [
    "import pandas as pd\n",
    "\n",
    "students = [\n",
    "    {\"id\": 101, \"name\": \"Alice\", \"score\": 85},\n",
    "    {\"id\": 102, \"name\": \"Bob\", \"score\": 78},\n",
    "    {\"id\": 103, \"name\": \"Charlie\", \"score\": 92}\n",
    "]\n",
    "print(\"Student Names:\")\n",
    "for s in students:\n",
    "    print(s[\"name\"])\n",
    "avg = sum(s[\"score\"] for s in students) / len(students)\n",
    "print(\"\\nAverage Score:\", avg)\n",
    "students.append({\"id\": 104, \"name\": \"David\", \"score\": 88})\n",
    "\n",
    "for s in students:\n",
    "    if s[\"id\"] == 102:\n",
    "        s[\"score\"] = 88\n",
    "students = [s for s in students if s[\"name\"] != \"Charlie\"]\n",
    "\n",
    "print(\"\\nStudents with score > 80:\")\n",
    "for s in students:\n",
    "    if s[\"score\"] > 80:\n",
    "        print(s[\"name\"])\n",
    "\n",
    "students = sorted(students, key=lambda x: x[\"score\"], reverse=True)\n",
    "\n",
    "topper = max(students, key=lambda x: x[\"score\"])\n",
    "print(\"\\nTopper:\", topper[\"name\"], \"with score\", topper[\"score\"])\n",
    "print(\"\\nStudent Report:\")\n",
    "for s in students:\n",
    "    if s[\"score\"] >= 90:\n",
    "        grade = \"A\"\n",
    "    elif s[\"score\"] >= 80:\n",
    "        grade = \"B\"\n",
    "    else:\n",
    "        grade = \"C\"\n",
    "    print(f\"Name: {s['name']} | Score: {s['score']} | Grade: {grade}\")\n",
    "    s[\"grade\"] = grade\n",
    "grade_count = {}\n",
    "for s in students:\n",
    "    grade_count[s[\"grade\"]] = grade_count.get(s[\"grade\"], 0) + 1\n",
    "print(\"\\nGrade Counts:\", grade_count)\n",
    "df = pd.DataFrame(students)\n",
    "df.to_csv(\"students.csv\", index=False)\n",
    "print(\"\\nData exported to students.csv\")\n",
    "\n",
    "df2 = pd.read_csv(\"students.csv\")\n",
    "print(\"\\nStats from CSV:\")\n",
    "print(\"Mean:\", df2[\"score\"].mean())\n",
    "print(\"Min:\", df2[\"score\"].min())\n",
    "print(\"Max:\", df2[\"score\"].max())\n"
   ]
  },
  {
   "cell_type": "code",
   "execution_count": null,
   "id": "7944357f-42cb-4ead-b4cb-65c68f0fc979",
   "metadata": {},
   "outputs": [],
   "source": []
  },
  {
   "cell_type": "code",
   "execution_count": null,
   "id": "6d9c5b76-a799-4601-9d55-0fe5daee5aea",
   "metadata": {},
   "outputs": [],
   "source": []
  },
  {
   "cell_type": "code",
   "execution_count": null,
   "id": "3d818136-7dd1-4c23-9ee1-1db7be62910b",
   "metadata": {},
   "outputs": [],
   "source": []
  },
  {
   "cell_type": "code",
   "execution_count": null,
   "id": "ccce604f-10be-4c88-a36e-7103dad0bd18",
   "metadata": {},
   "outputs": [],
   "source": []
  },
  {
   "cell_type": "code",
   "execution_count": null,
   "id": "c773e9e0-d05c-4c37-80bb-9e8c5d6192f4",
   "metadata": {},
   "outputs": [],
   "source": []
  },
  {
   "cell_type": "code",
   "execution_count": null,
   "id": "7764fc71-3dde-470d-9466-0c691302a78c",
   "metadata": {},
   "outputs": [],
   "source": []
  },
  {
   "cell_type": "code",
   "execution_count": null,
   "id": "015be453-c19a-47ef-a440-4dc2e0c1c0f4",
   "metadata": {},
   "outputs": [],
   "source": []
  },
  {
   "cell_type": "code",
   "execution_count": null,
   "id": "ea627175-8d22-4437-b3ad-19399a3ee548",
   "metadata": {},
   "outputs": [],
   "source": []
  },
  {
   "cell_type": "code",
   "execution_count": null,
   "id": "3299def9-9a56-47e9-b116-3a679565a005",
   "metadata": {},
   "outputs": [],
   "source": []
  },
  {
   "cell_type": "code",
   "execution_count": null,
   "id": "ba1d5ca0-bed6-44b3-ace8-d230864f18f8",
   "metadata": {},
   "outputs": [],
   "source": []
  },
  {
   "cell_type": "code",
   "execution_count": null,
   "id": "4305d2d3-2494-499e-8569-821965e2efe7",
   "metadata": {},
   "outputs": [],
   "source": []
  },
  {
   "cell_type": "code",
   "execution_count": null,
   "id": "cd387f94-5d3a-40da-aea4-7190c338285a",
   "metadata": {},
   "outputs": [],
   "source": []
  },
  {
   "cell_type": "code",
   "execution_count": null,
   "id": "f793f5e3-fcd5-4ec5-8ff4-6505e3376172",
   "metadata": {},
   "outputs": [],
   "source": []
  }
 ],
 "metadata": {
  "kernelspec": {
   "display_name": "Python 3 (ipykernel)",
   "language": "python",
   "name": "python3"
  },
  "language_info": {
   "codemirror_mode": {
    "name": "ipython",
    "version": 3
   },
   "file_extension": ".py",
   "mimetype": "text/x-python",
   "name": "python",
   "nbconvert_exporter": "python",
   "pygments_lexer": "ipython3",
   "version": "3.13.5"
  }
 },
 "nbformat": 4,
 "nbformat_minor": 5
}
