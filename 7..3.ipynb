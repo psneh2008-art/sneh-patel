{
 "cells": [
  {
   "cell_type": "code",
   "execution_count": null,
   "id": "12fd7552-62be-49c0-a338-443806535264",
   "metadata": {},
   "outputs": [],
   "source": [
    "# code 1"
   ]
  },
  {
   "cell_type": "code",
   "execution_count": 1,
   "id": "1765d781-0a9e-4e37-bf20-6f571bb6555e",
   "metadata": {},
   "outputs": [
    {
     "name": "stdout",
     "output_type": "stream",
     "text": [
      "Array elements are:\n",
      "10\n",
      "20\n",
      "30\n",
      "40\n",
      "50\n"
     ]
    }
   ],
   "source": [
    "arr = [10, 20, 30, 40, 50]\n",
    "\n",
    "print(\"Array elements are:\")\n",
    "for i in arr:\n",
    "    print(i)\n"
   ]
  },
  {
   "cell_type": "code",
   "execution_count": null,
   "id": "8b0afe16-08c2-4711-b43f-cf25715e3fc8",
   "metadata": {},
   "outputs": [],
   "source": []
  },
  {
   "cell_type": "code",
   "execution_count": null,
   "id": "8f739bca-b66e-4b1f-ae3a-113f735cd99f",
   "metadata": {},
   "outputs": [],
   "source": [
    "# code 2"
   ]
  },
  {
   "cell_type": "code",
   "execution_count": 2,
   "id": "30fd52ae-bfde-4a9d-9af7-837d07eb33f2",
   "metadata": {},
   "outputs": [
    {
     "name": "stdout",
     "output_type": "stream",
     "text": [
      "Sum of array elements = 150\n"
     ]
    }
   ],
   "source": [
    "arr = [10, 20, 30, 40, 50]\n",
    "\n",
    "total = 0\n",
    "for i in arr:\n",
    "    total += i\n",
    "\n",
    "print(\"Sum of array elements =\", total)"
   ]
  },
  {
   "cell_type": "code",
   "execution_count": null,
   "id": "6271801d-f985-402b-a5ee-a3afb62f6791",
   "metadata": {},
   "outputs": [],
   "source": []
  },
  {
   "cell_type": "code",
   "execution_count": null,
   "id": "da4bfae1-b263-46a3-bf6e-9a36ff061b07",
   "metadata": {},
   "outputs": [],
   "source": [
    "# code 3"
   ]
  },
  {
   "cell_type": "code",
   "execution_count": 3,
   "id": "b852c25c-16c1-4408-a8f9-7ab2a14f7f6d",
   "metadata": {},
   "outputs": [
    {
     "name": "stdout",
     "output_type": "stream",
     "text": [
      "Array after insertion: [10, 20, 99, 30, 40, 50]\n"
     ]
    }
   ],
   "source": [
    "arr = [10, 20, 30, 40, 50]\n",
    "\n",
    "pos = 2\n",
    "element = 99\n",
    "\n",
    "arr.insert(pos, element)\n",
    "print(\"Array after insertion:\", arr)"
   ]
  },
  {
   "cell_type": "code",
   "execution_count": null,
   "id": "1b36cdd7-4686-4661-9d32-62db31ade95b",
   "metadata": {},
   "outputs": [],
   "source": []
  },
  {
   "cell_type": "code",
   "execution_count": null,
   "id": "71e4bd75-1022-4876-9b2a-5f24d778602c",
   "metadata": {},
   "outputs": [],
   "source": [
    "# code 4"
   ]
  },
  {
   "cell_type": "code",
   "execution_count": 4,
   "id": "93f02d44-1993-4dfc-a9b5-5f9aaac78aed",
   "metadata": {},
   "outputs": [
    {
     "name": "stdout",
     "output_type": "stream",
     "text": [
      "Array after deletion: [10, 20, 40, 50]\n"
     ]
    }
   ],
   "source": [
    "arr = [10, 20, 30, 40, 50]\n",
    "\n",
    "value = 30\n",
    "if value in arr:\n",
    "    arr.remove(value)\n",
    "\n",
    "print(\"Array after deletion:\", arr)"
   ]
  },
  {
   "cell_type": "code",
   "execution_count": null,
   "id": "bd9c3979-f6a2-451f-9d9b-20be66b426f2",
   "metadata": {},
   "outputs": [],
   "source": []
  },
  {
   "cell_type": "code",
   "execution_count": null,
   "id": "c44f8704-faa6-4167-9691-c208a724f719",
   "metadata": {},
   "outputs": [],
   "source": [
    "# code 5"
   ]
  },
  {
   "cell_type": "code",
   "execution_count": 5,
   "id": "c6203295-421a-471c-92c5-36e0f408f143",
   "metadata": {},
   "outputs": [
    {
     "name": "stdout",
     "output_type": "stream",
     "text": [
      "Array after update: [10, 20, 30, 99, 50]\n"
     ]
    }
   ],
   "source": [
    "arr = [10, 20, 30, 40, 50]\n",
    "\n",
    "index = 3\n",
    "new_value = 99\n",
    "\n",
    "arr[index] = new_value\n",
    "print(\"Array after update:\", arr)\n"
   ]
  },
  {
   "cell_type": "code",
   "execution_count": null,
   "id": "cc4d926b-7136-4178-b0ca-8af88332ee32",
   "metadata": {},
   "outputs": [],
   "source": []
  },
  {
   "cell_type": "code",
   "execution_count": null,
   "id": "d3ca0ba3-1074-44aa-9e49-9afb77562034",
   "metadata": {},
   "outputs": [],
   "source": [
    "# code 6"
   ]
  },
  {
   "cell_type": "code",
   "execution_count": 6,
   "id": "e75820ed-c7b6-45c8-937b-9b42c699b7ef",
   "metadata": {},
   "outputs": [
    {
     "name": "stdout",
     "output_type": "stream",
     "text": [
      "Element found at index: 3\n"
     ]
    }
   ],
   "source": [
    "arr = [10, 20, 30, 40, 50]\n",
    "\n",
    "element = 40\n",
    "if element in arr:\n",
    "    print(\"Element found at index:\", arr.index(element))\n",
    "else:\n",
    "    print(\"Element not found\")"
   ]
  },
  {
   "cell_type": "code",
   "execution_count": null,
   "id": "7b18b178-a8cb-457a-b5d9-ade1e4b9a887",
   "metadata": {},
   "outputs": [],
   "source": []
  },
  {
   "cell_type": "code",
   "execution_count": null,
   "id": "21b3ffbc-d96c-45bd-9e89-b89af29de7da",
   "metadata": {},
   "outputs": [],
   "source": [
    "# code 7"
   ]
  },
  {
   "cell_type": "code",
   "execution_count": 7,
   "id": "8be3515c-862c-4d6a-9459-4bf950c7a254",
   "metadata": {},
   "outputs": [
    {
     "name": "stdout",
     "output_type": "stream",
     "text": [
      "Concatenated array: [1, 2, 3, 4, 5, 6]\n"
     ]
    }
   ],
   "source": [
    "arr1 = [1, 2, 3]\n",
    "arr2 = [4, 5, 6]\n",
    "\n",
    "arr3 = arr1 + arr2\n",
    "print(\"Concatenated array:\", arr3)\n"
   ]
  },
  {
   "cell_type": "code",
   "execution_count": null,
   "id": "2db6e39d-2a33-4015-bccf-f7f07ae5959d",
   "metadata": {},
   "outputs": [],
   "source": []
  },
  {
   "cell_type": "code",
   "execution_count": null,
   "id": "f763f77c-672b-43ae-846d-0b31dcea201f",
   "metadata": {},
   "outputs": [],
   "source": []
  },
  {
   "cell_type": "code",
   "execution_count": null,
   "id": "ab66f467-ba0b-44b1-97dd-7767dadbf34e",
   "metadata": {},
   "outputs": [],
   "source": []
  }
 ],
 "metadata": {
  "kernelspec": {
   "display_name": "Python 3 (ipykernel)",
   "language": "python",
   "name": "python3"
  },
  "language_info": {
   "codemirror_mode": {
    "name": "ipython",
    "version": 3
   },
   "file_extension": ".py",
   "mimetype": "text/x-python",
   "name": "python",
   "nbconvert_exporter": "python",
   "pygments_lexer": "ipython3",
   "version": "3.13.5"
  }
 },
 "nbformat": 4,
 "nbformat_minor": 5
}
