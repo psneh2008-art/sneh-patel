{
 "cells": [
  {
   "cell_type": "code",
   "execution_count": null,
   "id": "30b72102-0c14-4077-8f6c-ae68070d41f4",
   "metadata": {},
   "outputs": [],
   "source": [
    "# code 1"
   ]
  },
  {
   "cell_type": "code",
   "execution_count": 1,
   "id": "e2a3f3ee-32fc-4535-afee-69d0ef0bc729",
   "metadata": {},
   "outputs": [
    {
     "name": "stdout",
     "output_type": "stream",
     "text": [
      "Length: 5\n",
      "Maximum: 50\n",
      "Minimum: 7\n",
      "Sorted: [7, 10, 25, 32, 50]\n",
      "Sum: 124\n",
      "Type of list: <class 'list'>\n"
     ]
    }
   ],
   "source": [
    "numbers = [10, 25, 7, 50, 32]\n",
    "\n",
    "print(\"Length:\", len(numbers))\n",
    "print(\"Maximum:\", max(numbers))\n",
    "print(\"Minimum:\", min(numbers))\n",
    "print(\"Sorted:\", sorted(numbers))\n",
    "print(\"Sum:\", sum(numbers))\n",
    "print(\"Type of list:\", type(numbers))\n"
   ]
  },
  {
   "cell_type": "code",
   "execution_count": null,
   "id": "fbc338e4-bb29-4ef2-8651-6aa6c30fb0ff",
   "metadata": {},
   "outputs": [],
   "source": []
  },
  {
   "cell_type": "code",
   "execution_count": null,
   "id": "7953e9be-430d-4149-9e42-e487e3e92a46",
   "metadata": {},
   "outputs": [],
   "source": [
    "# code 2"
   ]
  },
  {
   "cell_type": "code",
   "execution_count": 2,
   "id": "660eaf63-2f67-4462-9f62-0da377226e1e",
   "metadata": {},
   "outputs": [
    {
     "name": "stdout",
     "output_type": "stream",
     "text": [
      "Factorial of 5: 120\n"
     ]
    }
   ],
   "source": [
    "def factorial(n):\n",
    "    if n == 0 or n == 1:\n",
    "        return 1\n",
    "    return n * factorial(n-1)\n",
    "\n",
    "print(\"Factorial of 5:\", factorial(5))\n"
   ]
  },
  {
   "cell_type": "code",
   "execution_count": null,
   "id": "3fffa120-9c10-475e-ba0c-30a3b0dc23dd",
   "metadata": {},
   "outputs": [],
   "source": []
  },
  {
   "cell_type": "code",
   "execution_count": null,
   "id": "702ca8b4-9a8d-43ad-84c9-207d8c56b56b",
   "metadata": {},
   "outputs": [],
   "source": [
    "# code 3"
   ]
  },
  {
   "cell_type": "code",
   "execution_count": 3,
   "id": "df10f478-ebdb-415a-b0cc-4e819aeb6c56",
   "metadata": {},
   "outputs": [
    {
     "name": "stdout",
     "output_type": "stream",
     "text": [
      "[1, 4, 9, 16]\n"
     ]
    }
   ],
   "source": [
    "def square_list(lst):\n",
    "    return [x**2 for x in lst]\n",
    "\n",
    "print(square_list([1, 2, 3, 4]))\n"
   ]
  },
  {
   "cell_type": "code",
   "execution_count": null,
   "id": "7261c1a9-f964-4cf1-a4c3-7e2dc8aef99a",
   "metadata": {},
   "outputs": [],
   "source": []
  },
  {
   "cell_type": "code",
   "execution_count": null,
   "id": "adf64f06-bae3-498c-80e2-a7a269203e33",
   "metadata": {},
   "outputs": [],
   "source": [
    "# code 4"
   ]
  },
  {
   "cell_type": "code",
   "execution_count": 4,
   "id": "fae40917-b6db-48da-b900-a3fc1edadeed",
   "metadata": {},
   "outputs": [
    {
     "name": "stdout",
     "output_type": "stream",
     "text": [
      "{'l': 3, 'd': 1, 'r': 1, ' ': 1, 'o': 2, 'e': 1, 'w': 1, 'h': 1}\n"
     ]
    }
   ],
   "source": [
    "def char_frequency(s):\n",
    "    return {ch: s.count(ch) for ch in set(s)}\n",
    "\n",
    "print(char_frequency(\"hello world\"))\n"
   ]
  },
  {
   "cell_type": "code",
   "execution_count": null,
   "id": "69a6171a-006c-4044-8e67-5a3c001deceb",
   "metadata": {},
   "outputs": [],
   "source": []
  },
  {
   "cell_type": "code",
   "execution_count": null,
   "id": "e9075f3d-ce9a-451d-b72c-74408ceff470",
   "metadata": {},
   "outputs": [],
   "source": [
    "# code 5"
   ]
  },
  {
   "cell_type": "code",
   "execution_count": 5,
   "id": "255b1eed-9bb3-4930-9af7-ff9438c8b883",
   "metadata": {},
   "outputs": [
    {
     "name": "stdout",
     "output_type": "stream",
     "text": [
      "[1, 8, 27, 64]\n"
     ]
    }
   ],
   "source": [
    "def cube(x):\n",
    "    return x**3\n",
    "\n",
    "def apply_func(func, lst):\n",
    "    return [func(x) for x in lst]\n",
    "\n",
    "print(apply_func(cube, [1, 2, 3, 4]))\n"
   ]
  },
  {
   "cell_type": "code",
   "execution_count": null,
   "id": "cb64a764-a33c-4586-9dac-f7c98c5b50a1",
   "metadata": {},
   "outputs": [],
   "source": []
  },
  {
   "cell_type": "code",
   "execution_count": null,
   "id": "75e35814-54b1-43f1-a01e-2e09edba5632",
   "metadata": {},
   "outputs": [],
   "source": [
    "# code 6"
   ]
  },
  {
   "cell_type": "code",
   "execution_count": null,
   "id": "cddb37f7-e8a3-488d-9be9-91ae9f0a13cd",
   "metadata": {},
   "outputs": [],
   "source": [
    "def sum_product(*args):\n",
    "    total_sum = sum(args)\n",
    "    product = 1\n",
    "    for num in args:\n",
    "        product *= num\n",
    "    return total_sum, product\n",
    "\n",
    "print(sum_product(1, 2, 3, 4))\n"
   ]
  },
  {
   "cell_type": "code",
   "execution_count": null,
   "id": "bcd44434-eecc-4de6-986c-3901ce6d8bf7",
   "metadata": {},
   "outputs": [],
   "source": []
  },
  {
   "cell_type": "code",
   "execution_count": null,
   "id": "85439fb7-577b-4e7a-a349-c32dd4f5c7e4",
   "metadata": {},
   "outputs": [],
   "source": [
    "# code 7"
   ]
  },
  {
   "cell_type": "code",
   "execution_count": 7,
   "id": "39942e9f-2d9c-4aad-832c-cfc7f8dd14d3",
   "metadata": {},
   "outputs": [
    {
     "name": "stdout",
     "output_type": "stream",
     "text": [
      "Sneh\n",
      "Raj\n",
      "Aarav\n",
      "No students in the list.\n"
     ]
    }
   ],
   "source": [
    "def print_students(*args):\n",
    "    if not args:\n",
    "        print(\"No students in the list.\")\n",
    "    else:\n",
    "        for name in args:\n",
    "            print(name)\n",
    "\n",
    "print_students(\"Sneh\", \"Raj\", \"Aarav\")\n",
    "print_students()\n"
   ]
  },
  {
   "cell_type": "code",
   "execution_count": null,
   "id": "ac3f06ab-c674-42db-9dfc-6fe773610e9c",
   "metadata": {},
   "outputs": [],
   "source": []
  },
  {
   "cell_type": "code",
   "execution_count": null,
   "id": "e807d995-ddfb-45cb-b099-ef32720f3408",
   "metadata": {},
   "outputs": [],
   "source": [
    "# code 8"
   ]
  },
  {
   "cell_type": "code",
   "execution_count": 8,
   "id": "84dc3488-cf1c-496d-a0b8-6eae28de8028",
   "metadata": {},
   "outputs": [
    {
     "name": "stdout",
     "output_type": "stream",
     "text": [
      "(('hello', 'world'), (1, 2.5, 42))\n"
     ]
    }
   ],
   "source": [
    "def filter_args(*args):\n",
    "    strings = tuple(x for x in args if isinstance(x, str))\n",
    "    numbers = tuple(x for x in args if isinstance(x, (int, float)))\n",
    "    return strings, numbers\n",
    "\n",
    "print(filter_args(1, \"hello\", 2.5, \"world\", 42))\n"
   ]
  },
  {
   "cell_type": "code",
   "execution_count": null,
   "id": "f92af364-8973-4fbf-8cec-1a0ea3ae0c03",
   "metadata": {},
   "outputs": [],
   "source": []
  },
  {
   "cell_type": "code",
   "execution_count": null,
   "id": "2ceead4a-a750-426d-8513-b47350fb5457",
   "metadata": {},
   "outputs": [],
   "source": [
    "# code 9"
   ]
  },
  {
   "cell_type": "code",
   "execution_count": 10,
   "id": "1337114e-39df-4fdd-949d-0ae76847b56a",
   "metadata": {},
   "outputs": [
    {
     "name": "stdout",
     "output_type": "stream",
     "text": [
      "Name: Sneh\n",
      "Age: 17\n",
      "City: Ahmedabad\n"
     ]
    }
   ],
   "source": [
    "def person_info(**kwargs):\n",
    "    for key, value in kwargs.items():\n",
    "        print(f\"{key.capitalize()}: {value}\")\n",
    "\n",
    "person_info(name=\"Sneh\", age=17, city=\"Ahmedabad\")\n"
   ]
  },
  {
   "cell_type": "code",
   "execution_count": null,
   "id": "6faecdbd-a259-4b62-852d-652c1c9169b6",
   "metadata": {},
   "outputs": [],
   "source": []
  },
  {
   "cell_type": "code",
   "execution_count": null,
   "id": "aff018c5-94f0-40d7-b36a-cc6b8720a6cd",
   "metadata": {},
   "outputs": [],
   "source": [
    "# code 10"
   ]
  },
  {
   "cell_type": "code",
   "execution_count": 11,
   "id": "3e55f2de-ae7e-42b9-9124-6c802f5257a3",
   "metadata": {},
   "outputs": [
    {
     "name": "stdout",
     "output_type": "stream",
     "text": [
      "Product: Book, Total Cost: 600\n"
     ]
    }
   ],
   "source": [
    "def product_details(**kwargs):\n",
    "    total_cost = kwargs.get(\"price\", 0) * kwargs.get(\"quantity\", 0)\n",
    "    return f\"Product: {kwargs.get('name', 'Unknown')}, Total Cost: {total_cost}\"\n",
    "\n",
    "print(product_details(name=\"Book\", price=200, quantity=3))\n"
   ]
  },
  {
   "cell_type": "code",
   "execution_count": null,
   "id": "d66ee256-beec-489a-842e-8788c96c8270",
   "metadata": {},
   "outputs": [],
   "source": []
  },
  {
   "cell_type": "code",
   "execution_count": null,
   "id": "c260282b-cf48-40b0-aaf3-b758cf58990f",
   "metadata": {},
   "outputs": [],
   "source": [
    "# code 11"
   ]
  },
  {
   "cell_type": "code",
   "execution_count": 13,
   "id": "f561a93b-76da-44af-b1d7-6d17e4f806d6",
   "metadata": {},
   "outputs": [
    {
     "name": "stdout",
     "output_type": "stream",
     "text": [
      "Name: Sneh\n",
      "Department: IT\n",
      "Salary: 50000\n",
      "Missing fields: department\n"
     ]
    }
   ],
   "source": [
    "def employee_info(**kwargs):\n",
    "    required = [\"name\", \"department\", \"salary\"]\n",
    "    missing = [field for field in required if field not in kwargs]\n",
    "\n",
    "    if missing:\n",
    "        print(f\"Missing fields: {', '.join(missing)}\")\n",
    "    else:\n",
    "        for key, value in kwargs.items():\n",
    "            print(f\"{key.capitalize()}: {value}\")\n",
    "\n",
    "employee_info(name=\"Sneh\", department=\"IT\", salary=50000)\n",
    "employee_info(name=\"Raj\", salary=45000)\n"
   ]
  },
  {
   "cell_type": "code",
   "execution_count": null,
   "id": "3538bf60-e78e-42b4-966b-515da86a5dc4",
   "metadata": {},
   "outputs": [],
   "source": []
  },
  {
   "cell_type": "code",
   "execution_count": null,
   "id": "b2725705-d45f-41e4-be7e-47b3ed390e9e",
   "metadata": {},
   "outputs": [],
   "source": [
    "# code 12"
   ]
  },
  {
   "cell_type": "code",
   "execution_count": 14,
   "id": "976bc077-4842-4334-849b-6c3e835df23a",
   "metadata": {},
   "outputs": [
    {
     "name": "stdout",
     "output_type": "stream",
     "text": [
      "\n",
      "Function to calculate the area of a rectangle.\n",
      "Parameters: length (int/float), width (int/float)\n",
      "Return: area (int/float)\n",
      "\n",
      "Area: 50\n"
     ]
    }
   ],
   "source": [
    "def area_of_rectangle(length, width):\n",
    "    \"\"\"\n",
    "    Function to calculate the area of a rectangle.\n",
    "    Parameters: length (int/float), width (int/float)\n",
    "    Return: area (int/float)\n",
    "    \"\"\"\n",
    "    return length * width\n",
    "\n",
    "print(area_of_rectangle.__doc__)\n",
    "print(\"Area:\", area_of_rectangle(10, 5))\n"
   ]
  },
  {
   "cell_type": "code",
   "execution_count": null,
   "id": "dcf59505-580b-4d6b-92e3-c1d9930a030b",
   "metadata": {},
   "outputs": [],
   "source": []
  },
  {
   "cell_type": "code",
   "execution_count": null,
   "id": "ae732dec-e5df-487f-8cae-73dd1ea05d9b",
   "metadata": {},
   "outputs": [],
   "source": [
    "# code 13"
   ]
  },
  {
   "cell_type": "code",
   "execution_count": 15,
   "id": "f9a8d38a-a307-436c-85f9-4c395fc23ece",
   "metadata": {},
   "outputs": [
    {
     "name": "stdout",
     "output_type": "stream",
     "text": [
      "\n",
      "Function: fibonacci_upto(n)\n",
      "----------------------------------\n",
      "Purpose:\n",
      "    Generate the Fibonacci sequence up to a given number n.\n",
      "\n",
      "Input:\n",
      "    n (int) : The maximum limit up to which the Fibonacci sequence \n",
      "              will be generated. Must be a non-negative integer.\n",
      "\n",
      "Process:\n",
      "    - Start with the first two Fibonacci numbers [0, 1].\n",
      "    - Iteratively add the last two numbers to generate the next term.\n",
      "    - Stop when the next Fibonacci number exceeds n.\n",
      "\n",
      "Output:\n",
      "    list : A list containing Fibonacci sequence values up to n.\n",
      "\n",
      "Example:\n",
      "    fibonacci_upto(10) -> [0, 1, 1, 2, 3, 5, 8]\n",
      "\n",
      "Fibonacci up to 20: [0, 1, 1, 2, 3, 5, 8, 13]\n"
     ]
    }
   ],
   "source": [
    "def fibonacci_upto(n):\n",
    "    \"\"\"\n",
    "    Function: fibonacci_upto(n)\n",
    "    ----------------------------------\n",
    "    Purpose:\n",
    "        Generate the Fibonacci sequence up to a given number n.\n",
    "\n",
    "    Input:\n",
    "        n (int) : The maximum limit up to which the Fibonacci sequence \n",
    "                  will be generated. Must be a non-negative integer.\n",
    "\n",
    "    Process:\n",
    "        - Start with the first two Fibonacci numbers [0, 1].\n",
    "        - Iteratively add the last two numbers to generate the next term.\n",
    "        - Stop when the next Fibonacci number exceeds n.\n",
    "\n",
    "    Output:\n",
    "        list : A list containing Fibonacci sequence values up to n.\n",
    "\n",
    "    Example:\n",
    "        fibonacci_upto(10) -> [0, 1, 1, 2, 3, 5, 8]\n",
    "    \"\"\"\n",
    "    sequence = [0, 1]\n",
    "    while sequence[-1] + sequence[-2] <= n:\n",
    "        sequence.append(sequence[-1] + sequence[-2])\n",
    "    return sequence if n >= 1 else [0]\n",
    "\n",
    "\n",
    "print(fibonacci_upto.__doc__)\n",
    "print(\"Fibonacci up to 20:\", fibonacci_upto(20))\n"
   ]
  },
  {
   "cell_type": "code",
   "execution_count": null,
   "id": "6370be4e-13ca-4f91-96b4-de75fbab964c",
   "metadata": {},
   "outputs": [],
   "source": []
  }
 ],
 "metadata": {
  "kernelspec": {
   "display_name": "Python 3 (ipykernel)",
   "language": "python",
   "name": "python3"
  },
  "language_info": {
   "codemirror_mode": {
    "name": "ipython",
    "version": 3
   },
   "file_extension": ".py",
   "mimetype": "text/x-python",
   "name": "python",
   "nbconvert_exporter": "python",
   "pygments_lexer": "ipython3",
   "version": "3.13.5"
  }
 },
 "nbformat": 4,
 "nbformat_minor": 5
}
