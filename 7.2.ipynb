{
 "cells": [
  {
   "cell_type": "code",
   "execution_count": null,
   "id": "c2838187-c20b-44a3-8e3f-705f6615bc91",
   "metadata": {},
   "outputs": [],
   "source": [
    "# code 1"
   ]
  },
  {
   "cell_type": "code",
   "execution_count": 1,
   "id": "d1b59435-d91f-4a30-9009-cb72dea58918",
   "metadata": {},
   "outputs": [
    {
     "name": "stdout",
     "output_type": "stream",
     "text": [
      "120\n"
     ]
    }
   ],
   "source": [
    "def factorial(n):\n",
    "    if n < 0:\n",
    "        return \"Invalid input\"\n",
    "    if n == 0 or n == 1:\n",
    "        return 1\n",
    "    return n * factorial(n-1)\n",
    "\n",
    "print(factorial(5))\n"
   ]
  },
  {
   "cell_type": "code",
   "execution_count": null,
   "id": "5ebfaf26-a7ab-482c-b6ac-cbd1520d8ca2",
   "metadata": {},
   "outputs": [],
   "source": []
  },
  {
   "cell_type": "code",
   "execution_count": null,
   "id": "898e8e11-cf2d-405f-ad33-18a7f488a952",
   "metadata": {},
   "outputs": [],
   "source": [
    "# code 2"
   ]
  },
  {
   "cell_type": "code",
   "execution_count": 2,
   "id": "0854e1b9-fb43-4f50-a1d8-6b1846b9918a",
   "metadata": {},
   "outputs": [
    {
     "name": "stdout",
     "output_type": "stream",
     "text": [
      "8\n"
     ]
    }
   ],
   "source": [
    "def fibonacci(n):\n",
    "    if n <= 0:\n",
    "        return \"Invalid input\"\n",
    "    if n == 1 or n == 2:\n",
    "        return 1\n",
    "    return fibonacci(n-1) + fibonacci(n-2)\n",
    "\n",
    "print(fibonacci(6))\n"
   ]
  },
  {
   "cell_type": "code",
   "execution_count": null,
   "id": "c4468107-47b6-4e62-a6e7-bf4fe2ae7b63",
   "metadata": {},
   "outputs": [],
   "source": []
  },
  {
   "cell_type": "code",
   "execution_count": null,
   "id": "dcd7ed05-3987-4dd6-b544-39fa1703f124",
   "metadata": {},
   "outputs": [],
   "source": [
    "# code 3"
   ]
  },
  {
   "cell_type": "code",
   "execution_count": 3,
   "id": "5f160c20-b3d0-4e97-b5f6-428b47496d5a",
   "metadata": {},
   "outputs": [
    {
     "name": "stdout",
     "output_type": "stream",
     "text": [
      "olleh\n"
     ]
    }
   ],
   "source": [
    "def reverse_string(s):\n",
    "    if len(s) == 0:\n",
    "        return s\n",
    "    return reverse_string(s[1:]) + s[0]\n",
    "\n",
    "print(reverse_string(\"hello\"))\n"
   ]
  },
  {
   "cell_type": "code",
   "execution_count": null,
   "id": "6605042c-d6d0-41e0-9eda-869a85e57e7b",
   "metadata": {},
   "outputs": [],
   "source": []
  },
  {
   "cell_type": "code",
   "execution_count": null,
   "id": "6b2c0531-2f76-418a-a3c2-4df67c7aa75e",
   "metadata": {},
   "outputs": [],
   "source": [
    "# code 4"
   ]
  },
  {
   "cell_type": "code",
   "execution_count": 4,
   "id": "5a5360db-e41f-4760-b354-a147bb8ed837",
   "metadata": {},
   "outputs": [
    {
     "name": "stdout",
     "output_type": "stream",
     "text": [
      "2\n"
     ]
    }
   ],
   "source": [
    "def digit_sum(n):\n",
    "    if n < 10:\n",
    "        return n\n",
    "    return digit_sum(sum(int(d) for d in str(n)))\n",
    "\n",
    "print(digit_sum(9875))\n"
   ]
  },
  {
   "cell_type": "code",
   "execution_count": null,
   "id": "289f08f8-7cb2-475a-b340-6e729d361f52",
   "metadata": {},
   "outputs": [],
   "source": []
  },
  {
   "cell_type": "code",
   "execution_count": null,
   "id": "8b41e29e-fb94-4b74-9de3-983ee4bfb2bf",
   "metadata": {},
   "outputs": [],
   "source": [
    "# code 5"
   ]
  },
  {
   "cell_type": "code",
   "execution_count": 5,
   "id": "a3576949-70f6-4bf4-9a2c-963d20a540b6",
   "metadata": {},
   "outputs": [
    {
     "name": "stdout",
     "output_type": "stream",
     "text": [
      "11 13 17 19 23 29 "
     ]
    }
   ],
   "source": [
    "def is_prime(n, i=2):\n",
    "    if n < 2:\n",
    "        return False\n",
    "    if i * i > n:\n",
    "        return True\n",
    "    if n % i == 0:\n",
    "        return False\n",
    "    return is_prime(n, i+1)\n",
    "\n",
    "def print_primes(start, end):\n",
    "    for num in range(start, end+1):\n",
    "        if is_prime(num):\n",
    "            print(num, end=\" \")\n",
    "\n",
    "print_primes(10, 30)\n"
   ]
  },
  {
   "cell_type": "code",
   "execution_count": null,
   "id": "da539c9c-c1fc-4052-aa00-4896552bbb3e",
   "metadata": {},
   "outputs": [],
   "source": []
  },
  {
   "cell_type": "code",
   "execution_count": null,
   "id": "c2cdcb2f-e692-4397-a104-3c7771240308",
   "metadata": {},
   "outputs": [],
   "source": [
    "# code 6"
   ]
  },
  {
   "cell_type": "code",
   "execution_count": 6,
   "id": "69ce0653-b191-42e7-9c3e-d62da4d17b66",
   "metadata": {},
   "outputs": [
    {
     "name": "stdout",
     "output_type": "stream",
     "text": [
      "[1, 4, 9, 16, 25]\n"
     ]
    }
   ],
   "source": [
    "nums = [1, 2, 3, 4, 5]\n",
    "squares = list(map(lambda x: x**2, nums))\n",
    "print(squares)"
   ]
  },
  {
   "cell_type": "code",
   "execution_count": null,
   "id": "0dd39dd6-103a-4ef0-ba02-916be4bbd1fc",
   "metadata": {},
   "outputs": [],
   "source": []
  },
  {
   "cell_type": "code",
   "execution_count": null,
   "id": "c83ea8ea-5421-4b8f-a70a-d1a9ea18c28d",
   "metadata": {},
   "outputs": [],
   "source": [
    "# code 7"
   ]
  },
  {
   "cell_type": "code",
   "execution_count": 7,
   "id": "5c82d5e9-178c-4507-93dd-326599b7195f",
   "metadata": {},
   "outputs": [
    {
     "name": "stdout",
     "output_type": "stream",
     "text": [
      "[1, 3, 5]\n"
     ]
    }
   ],
   "source": [
    "nums = [1, 2, 3, 4, 5, 6]\n",
    "odds = list(filter(lambda x: x % 2 != 0, nums))\n",
    "print(odds)\n"
   ]
  },
  {
   "cell_type": "code",
   "execution_count": null,
   "id": "28d41935-8eff-44ec-9ba8-7b4c640deb91",
   "metadata": {},
   "outputs": [],
   "source": []
  },
  {
   "cell_type": "code",
   "execution_count": null,
   "id": "dc3823e1-9764-417c-b109-fe82fc2b09a4",
   "metadata": {},
   "outputs": [],
   "source": [
    "# code 8"
   ]
  },
  {
   "cell_type": "code",
   "execution_count": 8,
   "id": "30446b69-fd29-4d45-b3fe-198b68ef9be6",
   "metadata": {},
   "outputs": [
    {
     "name": "stdout",
     "output_type": "stream",
     "text": [
      "9\n"
     ]
    }
   ],
   "source": [
    "largest = lambda a, b, c: max(a, b, c)\n",
    "print(largest(3, 9, 5))"
   ]
  },
  {
   "cell_type": "code",
   "execution_count": null,
   "id": "3a30a6e2-586c-4cf3-aee8-956d60b6b91e",
   "metadata": {},
   "outputs": [],
   "source": []
  },
  {
   "cell_type": "code",
   "execution_count": null,
   "id": "a4bda781-4536-4cd4-a3fe-af53dc3b4aba",
   "metadata": {},
   "outputs": [],
   "source": [
    "# code 9"
   ]
  },
  {
   "cell_type": "code",
   "execution_count": 9,
   "id": "c57ccd70-be61-431d-92fb-2297f85280cf",
   "metadata": {},
   "outputs": [
    {
     "name": "stdout",
     "output_type": "stream",
     "text": [
      "Function called 1 times\n",
      "Function called 2 times\n"
     ]
    }
   ],
   "source": [
    "count = 0\n",
    "\n",
    "def my_function():\n",
    "    global count\n",
    "    count += 1\n",
    "    print(\"Function called\", count, \"times\")\n",
    "\n",
    "my_function()\n",
    "my_function()"
   ]
  },
  {
   "cell_type": "code",
   "execution_count": null,
   "id": "0ffbe17f-74e6-4b50-b82c-56f7ce6662f3",
   "metadata": {},
   "outputs": [],
   "source": []
  },
  {
   "cell_type": "code",
   "execution_count": null,
   "id": "ff3f868e-3052-4205-a7fb-59b1f7e61d47",
   "metadata": {},
   "outputs": [],
   "source": [
    "# code 10"
   ]
  },
  {
   "cell_type": "code",
   "execution_count": 10,
   "id": "552063a4-eb49-4e2c-a1bf-20a08cb2e89c",
   "metadata": {},
   "outputs": [
    {
     "name": "stdout",
     "output_type": "stream",
     "text": [
      "12\n"
     ]
    }
   ],
   "source": [
    "total = 0\n",
    "\n",
    "def add_number(n):\n",
    "    global total\n",
    "    total += n\n",
    "\n",
    "add_number(5)\n",
    "add_number(7)\n",
    "print(total)"
   ]
  },
  {
   "cell_type": "code",
   "execution_count": null,
   "id": "f69ff3c5-540a-4eac-b62a-10a878283f52",
   "metadata": {},
   "outputs": [],
   "source": []
  },
  {
   "cell_type": "code",
   "execution_count": null,
   "id": "091fbc8d-3697-4eb6-a731-150a4b6c6abd",
   "metadata": {},
   "outputs": [],
   "source": [
    "# code 11"
   ]
  },
  {
   "cell_type": "code",
   "execution_count": 11,
   "id": "e81a7a30-9274-4ab6-8a1b-7667bb134643",
   "metadata": {},
   "outputs": [
    {
     "name": "stdout",
     "output_type": "stream",
     "text": [
      "Alice\n"
     ]
    }
   ],
   "source": [
    "username = \"Guest\"\n",
    "\n",
    "def update_username(new_name):\n",
    "    global username\n",
    "    username = new_name\n",
    "\n",
    "update_username(\"Alice\")\n",
    "print(username)"
   ]
  },
  {
   "cell_type": "code",
   "execution_count": null,
   "id": "fb0374f5-f212-45b8-afd9-0c3581d3557a",
   "metadata": {},
   "outputs": [],
   "source": []
  },
  {
   "cell_type": "code",
   "execution_count": null,
   "id": "701369e6-9f49-47d7-9709-752b652603ce",
   "metadata": {},
   "outputs": [],
   "source": [
    "# code 12"
   ]
  },
  {
   "cell_type": "code",
   "execution_count": 12,
   "id": "ef170b4f-0b89-4a98-997d-6cca79268f02",
   "metadata": {},
   "outputs": [
    {
     "name": "stdout",
     "output_type": "stream",
     "text": [
      "15\n"
     ]
    }
   ],
   "source": [
    "counter = 0\n",
    "\n",
    "def initialize(val):\n",
    "    global counter\n",
    "    counter = val\n",
    "\n",
    "def increment(val):\n",
    "    global counter\n",
    "    counter += val\n",
    "\n",
    "initialize(10)\n",
    "increment(5)\n",
    "print(counter)\n"
   ]
  },
  {
   "cell_type": "code",
   "execution_count": null,
   "id": "63fe1f99-1f59-4bb0-8f7d-687f08136839",
   "metadata": {},
   "outputs": [],
   "source": []
  },
  {
   "cell_type": "code",
   "execution_count": null,
   "id": "c121f4b4-90c7-4362-8ff6-49e2bf92b770",
   "metadata": {},
   "outputs": [],
   "source": [
    "# code 13"
   ]
  },
  {
   "cell_type": "code",
   "execution_count": 13,
   "id": "5313cf8b-7145-45c8-9af6-a1be75a88fb7",
   "metadata": {},
   "outputs": [
    {
     "name": "stdout",
     "output_type": "stream",
     "text": [
      "Local: 5\n",
      "Global: 10\n"
     ]
    }
   ],
   "source": [
    "x = 10\n",
    "\n",
    "def func():\n",
    "    x = 5\n",
    "    print(\"Local:\", x)\n",
    "\n",
    "func()\n",
    "print(\"Global:\", x)\n"
   ]
  },
  {
   "cell_type": "code",
   "execution_count": null,
   "id": "ca3b0b1e-6c4a-4ce4-ab1b-98d24800659a",
   "metadata": {},
   "outputs": [],
   "source": []
  },
  {
   "cell_type": "code",
   "execution_count": null,
   "id": "c3db48b6-23b7-40b0-8c10-995b0a0caa73",
   "metadata": {},
   "outputs": [],
   "source": [
    "# code 14"
   ]
  },
  {
   "cell_type": "code",
   "execution_count": 14,
   "id": "b095d53c-2543-4174-8e08-fa0a49ea95be",
   "metadata": {},
   "outputs": [
    {
     "name": "stdout",
     "output_type": "stream",
     "text": [
      "(26, 9, 2)\n"
     ]
    }
   ],
   "source": [
    "def list_stats(lst):\n",
    "    return sum(lst), max(lst), min(lst)\n",
    "\n",
    "nums = [3, 7, 2, 9, 5]\n",
    "print(list_stats(nums))"
   ]
  },
  {
   "cell_type": "code",
   "execution_count": null,
   "id": "3afb1e71-0c7d-4fd6-8a41-742461b4a3a9",
   "metadata": {},
   "outputs": [],
   "source": []
  },
  {
   "cell_type": "code",
   "execution_count": null,
   "id": "336d44f9-14f8-4d3c-97c4-0963ea60c1ed",
   "metadata": {},
   "outputs": [],
   "source": [
    "# code 15"
   ]
  },
  {
   "cell_type": "code",
   "execution_count": 15,
   "id": "9813fe2d-13a1-4357-abaa-70489f0137e0",
   "metadata": {},
   "outputs": [
    {
     "name": "stdout",
     "output_type": "stream",
     "text": [
      "(15, 16)\n"
     ]
    }
   ],
   "source": [
    "def rectangle_area_perimeter(length, width):\n",
    "    area = length * width\n",
    "    perimeter = 2 * (length + width)\n",
    "    return area, perimeter\n",
    "\n",
    "print(rectangle_area_perimeter(5, 3))\n"
   ]
  },
  {
   "cell_type": "code",
   "execution_count": null,
   "id": "22e672c6-69bc-4661-8777-abe34bebead4",
   "metadata": {},
   "outputs": [],
   "source": []
  },
  {
   "cell_type": "code",
   "execution_count": null,
   "id": "59cc73fe-c886-49fe-a32d-f5b6f81c5d94",
   "metadata": {},
   "outputs": [],
   "source": [
    "# code 16"
   ]
  },
  {
   "cell_type": "code",
   "execution_count": 16,
   "id": "23be233b-518c-49df-ade9-7bb707cfe248",
   "metadata": {},
   "outputs": [
    {
     "name": "stdout",
     "output_type": "stream",
     "text": [
      "(16, 64)\n"
     ]
    }
   ],
   "source": [
    "def square_cube(n):\n",
    "    return (n**2, n**3)\n",
    "\n",
    "print(square_cube(4))"
   ]
  },
  {
   "cell_type": "code",
   "execution_count": null,
   "id": "4f03df04-0498-412a-b438-32283057ca6f",
   "metadata": {},
   "outputs": [],
   "source": []
  },
  {
   "cell_type": "code",
   "execution_count": null,
   "id": "01b4eeec-8015-4913-9853-e2dff1f1aacb",
   "metadata": {},
   "outputs": [],
   "source": [
    "# code 17"
   ]
  },
  {
   "cell_type": "code",
   "execution_count": null,
   "id": "d2ec97c0-4a1d-4dce-8106-cb5c716d88e1",
   "metadata": {},
   "outputs": [],
   "source": [
    "def split_string(s):\n",
    "    vowels = \"aeiouAEIOU\"\n",
    "    vowel_part = \"\".join([ch for ch in s if ch in vowels])\n",
    "    other_part = \"\".join([ch for ch in s if ch not in vowels])\n",
    "    return vowel_part, other_part\n",
    "\n",
    "print(split_string(\"hello world\"))"
   ]
  },
  {
   "cell_type": "code",
   "execution_count": null,
   "id": "9e316ff4-97e9-4e45-8a93-56ed07f0db60",
   "metadata": {},
   "outputs": [],
   "source": []
  },
  {
   "cell_type": "code",
   "execution_count": null,
   "id": "aa113707-8981-452b-96ec-21ff75df5188",
   "metadata": {},
   "outputs": [],
   "source": [
    "# code 18"
   ]
  },
  {
   "cell_type": "code",
   "execution_count": 17,
   "id": "a8fa1af5-0c38-4b19-8b30-15cb7c5aa206",
   "metadata": {},
   "outputs": [
    {
     "name": "stdout",
     "output_type": "stream",
     "text": [
      "(['apple', 'orange', 'elephant'], ['banana', 'grape'])\n"
     ]
    }
   ],
   "source": [
    "def split_words(words):\n",
    "    vowels = \"aeiouAEIOU\"\n",
    "    vowel_words = [w for w in words if w[0] in vowels]\n",
    "    consonant_words = [w for w in words if w[0] not in vowels]\n",
    "    return vowel_words, consonant_words\n",
    "\n",
    "words = [\"apple\", \"banana\", \"orange\", \"grape\", \"elephant\"]\n",
    "print(split_words(words))  "
   ]
  },
  {
   "cell_type": "code",
   "execution_count": null,
   "id": "b77ca759-25f4-4db0-a4d5-c24992e14bec",
   "metadata": {},
   "outputs": [],
   "source": []
  },
  {
   "cell_type": "code",
   "execution_count": null,
   "id": "0ed28f70-d6d5-46fd-9b21-22d243a36403",
   "metadata": {},
   "outputs": [],
   "source": []
  },
  {
   "cell_type": "code",
   "execution_count": null,
   "id": "98b4df34-2327-4c1c-952c-bcff7772d0c7",
   "metadata": {},
   "outputs": [],
   "source": []
  }
 ],
 "metadata": {
  "kernelspec": {
   "display_name": "Python 3 (ipykernel)",
   "language": "python",
   "name": "python3"
  },
  "language_info": {
   "codemirror_mode": {
    "name": "ipython",
    "version": 3
   },
   "file_extension": ".py",
   "mimetype": "text/x-python",
   "name": "python",
   "nbconvert_exporter": "python",
   "pygments_lexer": "ipython3",
   "version": "3.13.5"
  }
 },
 "nbformat": 4,
 "nbformat_minor": 5
}
