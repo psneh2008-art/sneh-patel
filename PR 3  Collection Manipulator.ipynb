{
 "cells": [
  {
   "cell_type": "code",
   "execution_count": 3,
   "id": "ecc94bc1-f8e0-4c21-9d33-644adf928c1d",
   "metadata": {},
   "outputs": [
    {
     "name": "stdout",
     "output_type": "stream",
     "text": [
      "\n",
      "1. Add Student\n",
      "2. Display Students\n",
      "3. Delete Student\n",
      "4. Display Subjects\n",
      "5. Exit\n"
     ]
    },
    {
     "name": "stdin",
     "output_type": "stream",
     "text": [
      "Enter choice:  1\n",
      "ID:  3\n",
      "Name:  sneh\n",
      "Age:  17\n",
      "Grade:  a\n",
      "DOB (YYYY-MM-DD):   3 4 2008\n",
      "Subjects (comma separated):  maths\n"
     ]
    },
    {
     "name": "stdout",
     "output_type": "stream",
     "text": [
      "Student added!\n",
      "\n",
      "1. Add Student\n",
      "2. Display Students\n",
      "3. Delete Student\n",
      "4. Display Subjects\n",
      "5. Exit\n"
     ]
    },
    {
     "name": "stdin",
     "output_type": "stream",
     "text": [
      "Enter choice:  2\n"
     ]
    },
    {
     "name": "stdout",
     "output_type": "stream",
     "text": [
      "ID:3 | Name:sneh | Age:17 | Grade:a | Subjects:maths\n",
      "\n",
      "1. Add Student\n",
      "2. Display Students\n",
      "3. Delete Student\n",
      "4. Display Subjects\n",
      "5. Exit\n"
     ]
    },
    {
     "name": "stdin",
     "output_type": "stream",
     "text": [
      "Enter choice:  3\n",
      "Enter ID to delete:  3\n"
     ]
    },
    {
     "name": "stdout",
     "output_type": "stream",
     "text": [
      "Deleted!\n",
      "\n",
      "1. Add Student\n",
      "2. Display Students\n",
      "3. Delete Student\n",
      "4. Display Subjects\n",
      "5. Exit\n"
     ]
    },
    {
     "name": "stdin",
     "output_type": "stream",
     "text": [
      "Enter choice:  2\n"
     ]
    },
    {
     "name": "stdout",
     "output_type": "stream",
     "text": [
      "No records found!\n",
      "\n",
      "1. Add Student\n",
      "2. Display Students\n",
      "3. Delete Student\n",
      "4. Display Subjects\n",
      "5. Exit\n"
     ]
    },
    {
     "name": "stdin",
     "output_type": "stream",
     "text": [
      "Enter choice:  3\n",
      "Enter ID to delete:  2\n"
     ]
    },
    {
     "name": "stdout",
     "output_type": "stream",
     "text": [
      "\n",
      "1. Add Student\n",
      "2. Display Students\n",
      "3. Delete Student\n",
      "4. Display Subjects\n",
      "5. Exit\n"
     ]
    },
    {
     "name": "stdin",
     "output_type": "stream",
     "text": [
      "Enter choice:  3\n",
      "Enter ID to delete:  3\n"
     ]
    },
    {
     "name": "stdout",
     "output_type": "stream",
     "text": [
      "\n",
      "1. Add Student\n",
      "2. Display Students\n",
      "3. Delete Student\n",
      "4. Display Subjects\n",
      "5. Exit\n"
     ]
    },
    {
     "name": "stdin",
     "output_type": "stream",
     "text": [
      "Enter choice:  4\n"
     ]
    },
    {
     "name": "stdout",
     "output_type": "stream",
     "text": [
      "Subjects Offered: maths\n",
      "\n",
      "1. Add Student\n",
      "2. Display Students\n",
      "3. Delete Student\n",
      "4. Display Subjects\n",
      "5. Exit\n"
     ]
    },
    {
     "name": "stdin",
     "output_type": "stream",
     "text": [
      "Enter choice:  5\n"
     ]
    },
    {
     "name": "stdout",
     "output_type": "stream",
     "text": [
      "Goodbye!\n"
     ]
    }
   ],
   "source": [
    "students = []  \n",
    "subjects = set()  \n",
    "\n",
    "while True:\n",
    "    print(\"\\n1. Add Student\\n2. Display Students\\n3. Delete Student\\n4. Display Subjects\\n5. Exit\")\n",
    "    choice = input(\"Enter choice: \")\n",
    "\n",
    "    if choice == \"1\":\n",
    "        sid = int(input(\"ID: \"))\n",
    "        name = input(\"Name: \")\n",
    "        age = int(input(\"Age: \"))\n",
    "        grade = input(\"Grade: \")\n",
    "        dob = input(\"DOB (YYYY-MM-DD): \")\n",
    "        subs = input(\"Subjects (comma separated): \").split(\",\")\n",
    "\n",
    "       \n",
    "        subjects.update(sub.strip() for sub in subs)\n",
    "\n",
    "        # Tuple for ID and DOB (immutable)\n",
    "        unique = (sid, dob)\n",
    "        # Dictionary for student info\n",
    "        info = {\"Name\": name, \"Age\": age, \"Grade\": grade, \"Subjects\": subs}\n",
    "\n",
    "        students.append({unique: info})\n",
    "        print(\"Student added!\")\n",
    "\n",
    "    elif choice == \"2\":\n",
    "        if not students:\n",
    "            print(\"No records found!\")\n",
    "        else:\n",
    "            for s in students:\n",
    "                for u, i in s.items():\n",
    "                    print(f\"ID:{u[0]} | Name:{i['Name']} | Age:{i['Age']} | Grade:{i['Grade']} | Subjects:{', '.join(i['Subjects'])}\")\n",
    "\n",
    "    elif choice == \"3\":\n",
    "        sid = int(input(\"Enter ID to delete: \"))\n",
    "        for s in students:\n",
    "            for u in s:\n",
    "                if u[0] == sid:\n",
    "                    students.remove(s)\n",
    "                    print(\"Deleted!\")\n",
    "                    break\n",
    "\n",
    "    elif choice == \"4\":\n",
    "        print(\"Subjects Offered:\", \", \".join(subjects) if subjects else \"No subjects yet\")\n",
    "\n",
    "    elif choice == \"5\":\n",
    "        print(\"Goodbye!\")\n",
    "        break\n",
    "\n",
    "    else:\n",
    "        print(\"Invalid choice!\")"
   ]
  },
  {
   "cell_type": "code",
   "execution_count": null,
   "id": "a0ae8818-4319-4c0f-bfad-ce1c1a24774f",
   "metadata": {},
   "outputs": [],
   "source": [
    " "
   ]
  },
  {
   "cell_type": "code",
   "execution_count": null,
   "id": "480c4457-53fd-4d8b-ad54-1c19108e60e8",
   "metadata": {},
   "outputs": [],
   "source": []
  },
  {
   "cell_type": "code",
   "execution_count": null,
   "id": "4eeb4851-7672-44ef-b86c-07f895ebd113",
   "metadata": {},
   "outputs": [],
   "source": []
  }
 ],
 "metadata": {
  "kernelspec": {
   "display_name": "Python 3 (ipykernel)",
   "language": "python",
   "name": "python3"
  },
  "language_info": {
   "codemirror_mode": {
    "name": "ipython",
    "version": 3
   },
   "file_extension": ".py",
   "mimetype": "text/x-python",
   "name": "python",
   "nbconvert_exporter": "python",
   "pygments_lexer": "ipython3",
   "version": "3.13.5"
  }
 },
 "nbformat": 4,
 "nbformat_minor": 5
}
