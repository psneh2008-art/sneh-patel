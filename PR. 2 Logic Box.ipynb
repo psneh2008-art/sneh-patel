{
 "cells": [
  {
   "cell_type": "code",
   "execution_count": 1,
   "id": "69e9dd61-3bad-46e3-a6e6-6a863d5fac02",
   "metadata": {},
   "outputs": [
    {
     "name": "stdout",
     "output_type": "stream",
     "text": [
      "\n",
      "--- Logic Box ---\n",
      "1. Generate a Pattern (Right-angled triangle)\n",
      "2. Analyze a Range of Numbers\n",
      "3. Exit\n"
     ]
    },
    {
     "name": "stdin",
     "output_type": "stream",
     "text": [
      "Enter your choice:  3\n"
     ]
    },
    {
     "name": "stdout",
     "output_type": "stream",
     "text": [
      "Exiting program. Goodbye!\n"
     ]
    }
   ],
   "source": [
    "while True:\n",
    "    print(\"\\n--- Logic Box ---\")\n",
    "    print(\"1. Generate a Pattern (Right-angled triangle)\")\n",
    "    print(\"2. Analyze a Range of Numbers\")\n",
    "    print(\"3. Exit\")\n",
    "    \n",
    "\n",
    "    choice = input(\"Enter your choice: \")\n",
    "\n",
    "    if choice == \"1\":\n",
    "        rows = int(input(\"Enter number of rows: \"))\n",
    "        if rows <= 0:\n",
    "            print(\"Invalid row count!\")\n",
    "            continue\n",
    "        for i in range(1, rows + 1):\n",
    "            for j in range(i):\n",
    "                print(\"*\", end=\"\")\n",
    "            print()\n",
    "\n",
    "    elif choice == \"2\":\n",
    "        start = int(input(\"Enter start of range: \"))\n",
    "        end = int(input(\"Enter end of range: \"))\n",
    "        if end < start:\n",
    "            print(\"Invalid range!\")\n",
    "            continue\n",
    "        total = 0\n",
    "        for num in range(start, end + 1):\n",
    "            if num % 2 == 0:\n",
    "                print(f\"{num} is Even\")\n",
    "            else:\n",
    "                print(f\"{num} is Odd\")\n",
    "            total += num\n",
    "        print(f\"Sum of all numbers from {start} to {end} is: {total}\")\n",
    "\n",
    "    elif choice == \"3\":\n",
    "        print(\"Exiting program. Goodbye!\")\n",
    "        break\n",
    "        \n",
    "    else:\n",
    "        print(\"Invalid choice, try again.\")\n",
    "        pass"
   ]
  },
  {
   "cell_type": "code",
   "execution_count": null,
   "id": "03ec001e-4619-4e4b-a59f-5b114700eea2",
   "metadata": {},
   "outputs": [],
   "source": []
  },
  {
   "cell_type": "code",
   "execution_count": null,
   "id": "448803db-350d-4fba-9fde-e16e7fd5362c",
   "metadata": {},
   "outputs": [],
   "source": []
  },
  {
   "cell_type": "code",
   "execution_count": null,
   "id": "29837cb7-818b-49ef-84eb-906e3711e530",
   "metadata": {},
   "outputs": [],
   "source": []
  },
  {
   "cell_type": "code",
   "execution_count": null,
   "id": "50f85164-f875-4c36-b1bb-8c1aba58a24a",
   "metadata": {},
   "outputs": [],
   "source": []
  },
  {
   "cell_type": "code",
   "execution_count": null,
   "id": "a0265c21-a128-4d4a-b36f-f0bb50b0af02",
   "metadata": {},
   "outputs": [],
   "source": []
  },
  {
   "cell_type": "code",
   "execution_count": null,
   "id": "134990dd-8016-4246-998f-bd9a293ff042",
   "metadata": {},
   "outputs": [],
   "source": []
  },
  {
   "cell_type": "code",
   "execution_count": null,
   "id": "038bcfd0-2f0d-4613-9abb-aed5f23464d8",
   "metadata": {},
   "outputs": [],
   "source": []
  },
  {
   "cell_type": "code",
   "execution_count": null,
   "id": "0d6124f3-40a1-4de8-8639-5cb0a73286e9",
   "metadata": {},
   "outputs": [],
   "source": []
  },
  {
   "cell_type": "code",
   "execution_count": null,
   "id": "a96cc337-0e21-4271-9a4d-6e3f21001494",
   "metadata": {},
   "outputs": [],
   "source": []
  },
  {
   "cell_type": "code",
   "execution_count": null,
   "id": "ecdc08f4-ad61-4d8a-a2ae-4ff8cfae5dc5",
   "metadata": {},
   "outputs": [],
   "source": []
  },
  {
   "cell_type": "code",
   "execution_count": null,
   "id": "5460d7a1-5ae0-4969-bff4-200e0b7897a5",
   "metadata": {},
   "outputs": [],
   "source": []
  },
  {
   "cell_type": "code",
   "execution_count": null,
   "id": "56ff74c8-73ce-46a1-9b2e-eb6c33c5d404",
   "metadata": {},
   "outputs": [],
   "source": []
  }
 ],
 "metadata": {
  "kernelspec": {
   "display_name": "Python 3 (ipykernel)",
   "language": "python",
   "name": "python3"
  },
  "language_info": {
   "codemirror_mode": {
    "name": "ipython",
    "version": 3
   },
   "file_extension": ".py",
   "mimetype": "text/x-python",
   "name": "python",
   "nbconvert_exporter": "python",
   "pygments_lexer": "ipython3",
   "version": "3.13.5"
  }
 },
 "nbformat": 4,
 "nbformat_minor": 5
}
