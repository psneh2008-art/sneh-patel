{
 "cells": [
  {
   "cell_type": "code",
   "execution_count": 3,
   "id": "d1a454a5-7b6d-4f86-a7a0-c09230116ee6",
   "metadata": {},
   "outputs": [
    {
     "name": "stdout",
     "output_type": "stream",
     "text": [
      "Welcome to the Interactive Personal Data Collector\n"
     ]
    },
    {
     "name": "stdin",
     "output_type": "stream",
     "text": [
      "enter your name: sneh\n",
      "enter your age: 17\n",
      "enter your hight: 160\n",
      "enter your favourite number: 3\n"
     ]
    },
    {
     "name": "stdout",
     "output_type": "stream",
     "text": [
      "Name: sneh (Type: <class 'str'>, Memory Address: 2517208538672)\n",
      "Age: 17 (Type: <class 'int'>, Memory Address: 140727866537384)\n",
      "Height: 160.0 (Type: <class 'float'>, Memory Address: 2517186936880)\n",
      "Favourite Number: 3 (Type: <class 'int'>, Memory Address: 140727866536936)\n",
      " Your Birth Year is : 2008\n",
      "Thank you forusing the personal data collector. goodbye!\n"
     ]
    }
   ],
   "source": [
    "print(\"Welcome to the Interactive Personal Data Collector\")\n",
    "name = input(\"enter your name:\")\n",
    "age = int(input(\"enter your age:\"))\n",
    "height = float(input(\"enter your hight:\"))\n",
    "favourite_number = int(input(\"enter your favourite number:\"))\n",
    "birth_year = 2025-age\n",
    "print(f\"Name: {name} (Type: {type(name)}, Memory Address: {id(name)})\")\n",
    "print(f\"Age: {age} (Type: {type(age)}, Memory Address: {id(age)})\")\n",
    "print(f\"Height: {height} (Type: {type(height)}, Memory Address: {id(height)})\")\n",
    "print(f\"Favourite Number: {favourite_number} (Type: {type(favourite_number)}, Memory Address: {id(favourite_number)})\")\n",
    "print(f\" Your Birth Year is : {birth_year}\")\n",
    "print(\"Thank you forusing the personal data collector. goodbye!\")"
   ]
  },
  {
   "cell_type": "code",
   "execution_count": null,
   "id": "4472756b-4283-41e8-8bec-1dc82361ab0d",
   "metadata": {},
   "outputs": [],
   "source": []
  },
  {
   "cell_type": "code",
   "execution_count": null,
   "id": "e1b80cd5-c809-4a37-8d72-ea10bdab6ed8",
   "metadata": {},
   "outputs": [],
   "source": []
  },
  {
   "cell_type": "code",
   "execution_count": null,
   "id": "8411dcd6-3e9f-47dd-88c8-f4cdd3e9c6b0",
   "metadata": {},
   "outputs": [],
   "source": []
  },
  {
   "cell_type": "code",
   "execution_count": null,
   "id": "8f7bf33f-1720-4cff-aedb-227961f00f4b",
   "metadata": {},
   "outputs": [],
   "source": []
  },
  {
   "cell_type": "code",
   "execution_count": null,
   "id": "f725c237-ae77-4022-af65-a44a52cc08b9",
   "metadata": {},
   "outputs": [],
   "source": []
  },
  {
   "cell_type": "code",
   "execution_count": null,
   "id": "5baae74b-e184-4712-853b-285af72fb013",
   "metadata": {},
   "outputs": [],
   "source": []
  },
  {
   "cell_type": "code",
   "execution_count": null,
   "id": "a9dc029d-84ad-4393-b9d3-c81281bc502b",
   "metadata": {},
   "outputs": [],
   "source": []
  },
  {
   "cell_type": "code",
   "execution_count": null,
   "id": "0c4587b8-2617-4537-b837-4c19a530263b",
   "metadata": {},
   "outputs": [],
   "source": []
  },
  {
   "cell_type": "code",
   "execution_count": null,
   "id": "84361aaa-dd88-4eed-935c-bf6bbc15f1d4",
   "metadata": {},
   "outputs": [],
   "source": []
  },
  {
   "cell_type": "code",
   "execution_count": null,
   "id": "2fdfa26c-ad34-4ab4-8d8e-dc47297d6c36",
   "metadata": {},
   "outputs": [],
   "source": []
  },
  {
   "cell_type": "code",
   "execution_count": null,
   "id": "94d3892e-5e6b-4dfe-bab6-16d9ded6288f",
   "metadata": {},
   "outputs": [],
   "source": []
  }
 ],
 "metadata": {
  "kernelspec": {
   "display_name": "Python 3 (ipykernel)",
   "language": "python",
   "name": "python3"
  },
  "language_info": {
   "codemirror_mode": {
    "name": "ipython",
    "version": 3
   },
   "file_extension": ".py",
   "mimetype": "text/x-python",
   "name": "python",
   "nbconvert_exporter": "python",
   "pygments_lexer": "ipython3",
   "version": "3.13.5"
  }
 },
 "nbformat": 4,
 "nbformat_minor": 5
}
